{
 "cells": [
  {
   "cell_type": "code",
   "execution_count": 1,
   "metadata": {},
   "outputs": [],
   "source": [
    "import tensorflow as tf\n",
    "from keras.preprocessing.image import ImageDataGenerator\n",
    "from sklearn.model_selection import train_test_split\n",
    "import splitfolders\n",
    "import cv2\n",
    "import numpy as np\n",
    "import os\n",
    "import matplotlib.pyplot as plt"
   ]
  },
  {
   "cell_type": "code",
   "execution_count": null,
   "metadata": {},
   "outputs": [],
   "source": [
    "#save augmented images in folder\n",
    "def augment_data(image_path, save_dir):\n",
    "    img = cv2.imread(image_path)\n",
    "    img = cv2.cvtColor(img, cv2.COLOR_BGR2RGB)\n",
    "    img = cv2.resize(img, (512, 512))\n",
    "    \n",
    "    datagen = ImageDataGenerator(\n",
    "        rescale=1./255,\n",
    "        rotation_range=20,\n",
    "        shear_range=0.2,\n",
    "        zoom_range=0.2,\n",
    "        horizontal_flip=True,\n",
    "    )\n",
    "    \n",
    "    for i in range (0,6):\n",
    "        if i==0:\n",
    "            augmented_img = img \n",
    "        else:\n",
    "            params = datagen.get_random_transform(img.shape)\n",
    "            augmented_img = datagen.apply_transform(img, params)\n",
    "            augmented_img = np.clip(augmented_img, 0, 255).astype(np.uint8)\n",
    "        save_path = os.path.join(save_dir, f\"augmented_{i}_{os.path.basename(image_path)}\")\n",
    "        cv2.imwrite(save_path, cv2.cvtColor(augmented_img, cv2.COLOR_RGB2BGR))"
   ]
  },
  {
   "cell_type": "code",
   "execution_count": null,
   "metadata": {},
   "outputs": [],
   "source": [
    "#augmenting each directory\n",
    "names = ['Chaar Narayan Temple', 'Chyasin Dega','Krishna Mandir', 'Shree Bhimsen Temple', 'Vishwanath Temple']\n",
    "sides = ['East','West','North','South']\n",
    "directory = 'Dataset'\n",
    "save_directory = 'Augmented Dataset'\n",
    "for name in names:\n",
    "    augmented_base_dir = os.path.join(save_directory,name)\n",
    "    os.makedirs(augmented_base_dir, exist_ok=True)\n",
    "    for side in sides:\n",
    "        os.makedirs(os.path.join(augmented_base_dir,side), exist_ok=True)\n",
    "        path=os.path.join(directory,name,side)\n",
    "        save_path=os.path.join(save_directory,name,side)\n",
    "        [augment_data(os.path.join(path,img),save_path) for img in os.listdir(path)]\n"
   ]
  },
  {
   "cell_type": "code",
   "execution_count": 5,
   "metadata": {},
   "outputs": [],
   "source": [
    "#Splitting the dataset\n",
    "names = ['Chaar Narayan Temple', 'Chyasin Dega','Krishna Mandir', 'Shree Bhimsen Temple', 'Vishwanath Temple']\n",
    "directory = \"Augmented Dataset\"\n",
    "output_directory = \"Dataset After Split\"\n",
    "for name in names: \n",
    "    input_folder = os.path.join(directory,name)\n",
    "    splitfolders.ratio(\n",
    "        input_folder,\n",
    "        output=os.path.join(output_directory,name), \n",
    "        seed=42,\n",
    "        ratio=(.7, .2, .1), \n",
    "        group_prefix=None\n",
    "    ) "
   ]
  },
  {
   "cell_type": "code",
   "execution_count": null,
   "metadata": {},
   "outputs": [],
   "source": [
    "#Rearranging the split directory\n",
    "import os\n",
    "import shutil\n",
    "\n",
    "names = ['Chaar Narayan Temple', 'Chyasin Dega', 'Krishna Mandir', 'Shree Bhimsen Temple', 'Vishwanath Temple']\n",
    "sides = ['East', 'West', 'North', 'South']\n",
    "directory = 'Dataset After Split'\n",
    "save_directory = 'Split'\n",
    "split = ['train', 'test', 'val']\n",
    "\n",
    "for spl in split:\n",
    "    spl_dir = os.path.join(save_directory, spl)\n",
    "    os.makedirs(spl_dir, exist_ok=True)\n",
    "    \n",
    "    for name in names:\n",
    "        name_dir = os.path.join(spl_dir, name)\n",
    "        os.makedirs(name_dir, exist_ok=True)\n",
    "        \n",
    "        for side in sides:\n",
    "            side_dir = os.path.join(name_dir, side)\n",
    "            os.makedirs(side_dir, exist_ok=True)\n",
    "            \n",
    "            path = os.path.join(directory, name, spl, side)\n",
    "            save_path = os.path.join(save_directory, spl, name, side)\n",
    "            \n",
    "            shutil.copytree(path, save_path, dirs_exist_ok=True)\n"
   ]
  }
 ],
 "metadata": {
  "kernelspec": {
   "display_name": "Python 3",
   "language": "python",
   "name": "python3"
  },
  "language_info": {
   "codemirror_mode": {
    "name": "ipython",
    "version": 3
   },
   "file_extension": ".py",
   "mimetype": "text/x-python",
   "name": "python",
   "nbconvert_exporter": "python",
   "pygments_lexer": "ipython3",
   "version": "3.11.4"
  }
 },
 "nbformat": 4,
 "nbformat_minor": 2
}
