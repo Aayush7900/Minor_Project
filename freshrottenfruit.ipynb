{
 "cells": [
  {
   "cell_type": "code",
   "execution_count": 2,
   "metadata": {},
   "outputs": [],
   "source": [
    "import os\n",
    "import cv2\n",
    "import numpy as np\n",
    "import tensorflow as tf"
   ]
  },
  {
   "cell_type": "code",
   "execution_count": 3,
   "metadata": {},
   "outputs": [],
   "source": [
    "from keras.preprocessing.image import ImageDataGenerator\n",
    "from keras.models import Sequential\n",
    "from keras.layers import Conv2D, MaxPooling2D, Flatten, Dense\n",
    "from keras.utils import Sequence"
   ]
  },
  {
   "cell_type": "code",
   "execution_count": 4,
   "metadata": {},
   "outputs": [
    {
     "name": "stdout",
     "output_type": "stream",
     "text": [
      "[PhysicalDevice(name='/physical_device:GPU:0', device_type='GPU')]\n",
      "1 Physical GPUs, 1 Logical GPUs\n"
     ]
    }
   ],
   "source": [
    "gpus = tf.config.list_physical_devices('GPU')\n",
    "print(gpus)\n",
    "if gpus:\n",
    "  try:\n",
    "    # Currently, memory growth needs to be the same across GPUs\n",
    "    for gpu in gpus:\n",
    "      tf.config.experimental.set_memory_growth(gpu, True)\n",
    "    logical_gpus = tf.config.list_logical_devices('GPU')\n",
    "    print(len(gpus), \"Physical GPUs,\", len(logical_gpus), \"Logical GPUs\")\n",
    "  except RuntimeError as e:\n",
    "    # Memory growth must be set before GPUs have been initialized\n",
    "    print(e)"
   ]
  },
  {
   "cell_type": "code",
   "execution_count": 5,
   "metadata": {},
   "outputs": [],
   "source": [
    "img_size=224\n",
    "batch_size=32"
   ]
  },
  {
   "cell_type": "code",
   "execution_count": 6,
   "metadata": {},
   "outputs": [],
   "source": [
    "from tensorflow import keras\n",
    "\n",
    "base_model = keras.applications.MobileNetV2(\n",
    "    weights= 'imagenet',\n",
    "    input_shape=(img_size, img_size, 3),\n",
    "    include_top= False\n",
    ")\n"
   ]
  },
  {
   "cell_type": "markdown",
   "metadata": {},
   "source": [
    "## Freeze Base Model"
   ]
  },
  {
   "cell_type": "code",
   "execution_count": 7,
   "metadata": {},
   "outputs": [],
   "source": [
    "# Freeze base model\n",
    "base_model.trainable = False\n"
   ]
  },
  {
   "cell_type": "markdown",
   "metadata": {},
   "source": [
    "## Add Layers to Model"
   ]
  },
  {
   "cell_type": "code",
   "execution_count": 7,
   "metadata": {},
   "outputs": [
    {
     "name": "stdout",
     "output_type": "stream",
     "text": [
      "Model: \"model\"\n",
      "_________________________________________________________________\n",
      " Layer (type)                Output Shape              Param #   \n",
      "=================================================================\n",
      " input_2 (InputLayer)        [(None, 224, 224, 3)]     0         \n",
      "                                                                 \n",
      " mobilenetv2_1.00_224 (Funct  (None, 7, 7, 1280)       2257984   \n",
      " ional)                                                          \n",
      "                                                                 \n",
      " global_max_pooling2d (Globa  (None, 1280)             0         \n",
      " lMaxPooling2D)                                                  \n",
      "                                                                 \n",
      " dropout (Dropout)           (None, 1280)              0         \n",
      "                                                                 \n",
      " dense (Dense)               (None, 32)                40992     \n",
      "                                                                 \n",
      " dropout_1 (Dropout)         (None, 32)                0         \n",
      "                                                                 \n",
      " dense_1 (Dense)             (None, 32)                1056      \n",
      "                                                                 \n",
      " dense_2 (Dense)             (None, 6)                 198       \n",
      "                                                                 \n",
      "=================================================================\n",
      "Total params: 2,300,230\n",
      "Trainable params: 42,246\n",
      "Non-trainable params: 2,257,984\n",
      "_________________________________________________________________\n"
     ]
    }
   ],
   "source": [
    "# Create inputs with correct shape\n",
    "inputs = keras.Input(shape=(img_size, img_size, 3))  # Adjust the shape as needed\n",
    "\n",
    "# Pass inputs through the base model\n",
    "x = base_model(inputs, training=False)\n",
    "\n",
    "\n",
    "# Add Global Average Pooling Layer\n",
    "x = keras.layers.GlobalMaxPooling2D()(x)  # You can also use GlobalMaxPooling2D\n",
    "\n",
    "x = keras.layers.Dropout(0.25)(x)\n",
    "\n",
    "x = keras.layers.Dense(32,activation='relu')(x)\n",
    "\n",
    "x = keras.layers.Dropout(0.25)(x)\n",
    "\n",
    "x = keras.layers.Dense(32,activation='relu')(x)\n",
    "\n",
    "kernal_regularizer = keras.regularizers.L2(l2=0.005)\n",
    "\n",
    "# Add final dense layer\n",
    "num_classes = 6  # Set the number of classes (types of fruit) you have\n",
    "outputs = keras.layers.Dense(num_classes, activation='softmax',kernel_regularizer=kernal_regularizer)(x)\n",
    "\n",
    "# Combine inputs and outputs to create the model\n",
    "model = keras.Model(inputs, outputs)\n",
    "\n",
    "# Print model summary to check the architecture\n",
    "model.summary()"
   ]
  },
  {
   "cell_type": "code",
   "execution_count": 8,
   "metadata": {},
   "outputs": [
    {
     "name": "stdout",
     "output_type": "stream",
     "text": [
      "Model: \"model\"\n",
      "_________________________________________________________________\n",
      " Layer (type)                Output Shape              Param #   \n",
      "=================================================================\n",
      " input_2 (InputLayer)        [(None, 224, 224, 3)]     0         \n",
      "                                                                 \n",
      " mobilenetv2_1.00_224 (Funct  (None, 7, 7, 1280)       2257984   \n",
      " ional)                                                          \n",
      "                                                                 \n",
      " global_max_pooling2d (Globa  (None, 1280)             0         \n",
      " lMaxPooling2D)                                                  \n",
      "                                                                 \n",
      " dropout (Dropout)           (None, 1280)              0         \n",
      "                                                                 \n",
      " dense (Dense)               (None, 32)                40992     \n",
      "                                                                 \n",
      " dropout_1 (Dropout)         (None, 32)                0         \n",
      "                                                                 \n",
      " dense_1 (Dense)             (None, 32)                1056      \n",
      "                                                                 \n",
      " dense_2 (Dense)             (None, 6)                 198       \n",
      "                                                                 \n",
      "=================================================================\n",
      "Total params: 2,300,230\n",
      "Trainable params: 42,246\n",
      "Non-trainable params: 2,257,984\n",
      "_________________________________________________________________\n"
     ]
    }
   ],
   "source": [
    "from keras.models import load_model\n",
    "model=load_model(\"New models\\model12.2.h5\")\n",
    "model.summary()"
   ]
  },
  {
   "cell_type": "markdown",
   "metadata": {},
   "source": [
    "## Compile Model"
   ]
  },
  {
   "cell_type": "code",
   "execution_count": 21,
   "metadata": {},
   "outputs": [],
   "source": [
    "model.compile(\n",
    "    loss='categorical_crossentropy',  # For multi-class classification\n",
    "    optimizer='adam',  # You can choose other optimizers as well\n",
    "    metrics=['accuracy']  # Accuracy is a common metric for classification\n",
    ")"
   ]
  },
  {
   "cell_type": "markdown",
   "metadata": {},
   "source": [
    "## Augment the Data"
   ]
  },
  {
   "cell_type": "code",
   "execution_count": 11,
   "metadata": {},
   "outputs": [],
   "source": [
    "class MergedGenerators(Sequence):\n",
    "    def __init__(self, generators):\n",
    "        self.generators = generators\n",
    "        self.lengths = [len(gen) for gen in generators]\n",
    "        self.cumulative_lengths = np.cumsum(self.lengths)\n",
    "\n",
    "    def __len__(self):\n",
    "        return self.cumulative_lengths[-1]\n",
    "\n",
    "    def __getitem__(self, index):\n",
    "        generator_index = np.argmax(index < self.cumulative_lengths)\n",
    "        if generator_index > 0:\n",
    "            sample_index = index - self.cumulative_lengths[generator_index - 1]\n",
    "        else:\n",
    "            sample_index = index\n",
    "\n",
    "        # Get the data and labels from the corresponding generator\n",
    "        data, labels = self.generators[generator_index][sample_index]\n",
    "        return data, labels"
   ]
  },
  {
   "cell_type": "code",
   "execution_count": 12,
   "metadata": {},
   "outputs": [],
   "source": [
    "def grayscale_conversion(image):\n",
    "    grayscale_image = cv2.cvtColor(image, cv2.COLOR_BGR2GRAY)\n",
    "    # Repeat the single channel across three channels\n",
    "    grayscale_image = np.stack((grayscale_image,) * 3, axis=-1)\n",
    "    return grayscale_image"
   ]
  },
  {
   "cell_type": "code",
   "execution_count": 15,
   "metadata": {},
   "outputs": [],
   "source": [
    "normal_datagen = ImageDataGenerator(\n",
    "    rescale=1.0 / 255,\n",
    ")\n",
    "noisy_datagen = ImageDataGenerator(\n",
    "    rescale=1.0 / 255,\n",
    "    preprocessing_function=lambda x: x + np.random.normal(0, 0.1, x.shape),  # Add noise\n",
    ")\n",
    "shaded_datagen = ImageDataGenerator(\n",
    "    rescale=1.0 / 255,\n",
    "    brightness_range=[0.5, 1.5],  # Adjust the range for shading\n",
    ")\n",
    "grayscale_datagen = ImageDataGenerator(\n",
    "    preprocessing_function= grayscale_conversion,\n",
    "    rescale=1.0 / 255,\n",
    ")"
   ]
  },
  {
   "cell_type": "code",
   "execution_count": 10,
   "metadata": {},
   "outputs": [
    {
     "name": "stdout",
     "output_type": "stream",
     "text": [
      "Found 10911 images belonging to 6 classes.\n"
     ]
    }
   ],
   "source": [
    "new_gen = ImageDataGenerator(\n",
    "    featurewise_center=False,\n",
    "    rotation_range=10,\n",
    "    shear_range=0.2,\n",
    "    zoom_range=0.2,\n",
    "    width_shift_range=0.05,\n",
    "    height_shift_range=0.05,\n",
    "    rescale=1./255,\n",
    ")\n",
    "train_data_dir = r\"C:\\Users\\Acer\\Desktop\\Minor Project\\Split\\train\"\n",
    "new_generator = new_gen.flow_from_directory(\n",
    "    train_data_dir,\n",
    "    target_size=(img_size,img_size),\n",
    "    batch_size=batch_size,\n",
    "    shuffle=True,\n",
    "    seed=11,\n",
    "    class_mode='categorical'\n",
    ")\n",
    "\n"
   ]
  },
  {
   "cell_type": "code",
   "execution_count": null,
   "metadata": {},
   "outputs": [],
   "source": [
    "train_data_dir = r\"C:\\Users\\Acer\\Desktop\\Minor Project\\Split\\train\"\n",
    "validation_data_dir = r\"C:\\Users\\Acer\\Desktop\\Minor Project\\Split\\val\"\n",
    "generator1 = normal_datagen.flow_from_directory(\n",
    "    train_data_dir,\n",
    "    target_size=(img_size,img_size),\n",
    "    batch_size=batch_size,\n",
    "    shuffle=True,\n",
    "    seed=11,\n",
    "    class_mode='categorical'\n",
    ")\n",
    "generator2 = shaded_datagen.flow_from_directory(\n",
    "    train_data_dir,\n",
    "    target_size=(img_size,img_size),\n",
    "    batch_size=batch_size,\n",
    "    shuffle=True,\n",
    "    seed=42,\n",
    "    class_mode='categorical'\n",
    ")\n",
    "generator3 = noisy_datagen.flow_from_directory(\n",
    "    train_data_dir,\n",
    "    target_size=(img_size,img_size),\n",
    "    batch_size=batch_size,\n",
    "    shuffle=True,\n",
    "    seed=43,\n",
    "    class_mode='categorical'\n",
    ")\n",
    "generator4 = grayscale_datagen.flow_from_directory(\n",
    "    train_data_dir,\n",
    "    target_size=(img_size,img_size),\n",
    "    batch_size=batch_size,\n",
    "    shuffle=True,\n",
    "    seed=44,\n",
    "    class_mode='categorical'\n",
    ")"
   ]
  },
  {
   "cell_type": "code",
   "execution_count": 9,
   "metadata": {},
   "outputs": [
    {
     "name": "stdout",
     "output_type": "stream",
     "text": [
      "Found 3000 images belonging to 6 classes.\n"
     ]
    }
   ],
   "source": [
    "validation_data_dir = r\"C:\\Users\\Acer\\Desktop\\Minor Project\\Split\\val\"\n",
    "valgenerator = ImageDataGenerator(\n",
    "    rescale=1.0 / 255,\n",
    ")\n",
    "generator5 = valgenerator.flow_from_directory(\n",
    "    validation_data_dir,\n",
    "    target_size=(img_size,img_size),\n",
    "    batch_size=batch_size,\n",
    "    shuffle=True,\n",
    "    seed=88,\n",
    "    class_mode='categorical'\n",
    ")"
   ]
  },
  {
   "cell_type": "code",
   "execution_count": 18,
   "metadata": {},
   "outputs": [],
   "source": [
    "combined_generator = MergedGenerators([generator1, generator2, generator3, generator4])\n",
    "combined_generator = MergedGenerators([generator1, generator2])"
   ]
  },
  {
   "cell_type": "markdown",
   "metadata": {},
   "source": [
    "## Train the Model"
   ]
  },
  {
   "cell_type": "code",
   "execution_count": 15,
   "metadata": {},
   "outputs": [],
   "source": [
    "#history=model.fit(x = combined_generator, validation_data = generator5, epochs = 2)"
   ]
  },
  {
   "cell_type": "code",
   "execution_count": 11,
   "metadata": {},
   "outputs": [
    {
     "name": "stdout",
     "output_type": "stream",
     "text": [
      "Number of layers in the base model:  154\n"
     ]
    }
   ],
   "source": [
    "print(\"Number of layers in the base model: \", len(base_model.layers))"
   ]
  },
  {
   "cell_type": "code",
   "execution_count": 24,
   "metadata": {},
   "outputs": [
    {
     "name": "stdout",
     "output_type": "stream",
     "text": [
      "Model: \"model_1\"\n",
      "_________________________________________________________________\n",
      " Layer (type)                Output Shape              Param #   \n",
      "=================================================================\n",
      " input_4 (InputLayer)        [(None, 224, 224, 3)]     0         \n",
      "                                                                 \n",
      " mobilenetv2_1.00_224 (Funct  (None, 7, 7, 1280)       2257984   \n",
      " ional)                                                          \n",
      "                                                                 \n",
      " global_max_pooling2d_1 (Glo  (None, 1280)             0         \n",
      " balMaxPooling2D)                                                \n",
      "                                                                 \n",
      " dropout_2 (Dropout)         (None, 1280)              0         \n",
      "                                                                 \n",
      " dense_3 (Dense)             (None, 32)                40992     \n",
      "                                                                 \n",
      " dropout_3 (Dropout)         (None, 32)                0         \n",
      "                                                                 \n",
      " dense_4 (Dense)             (None, 32)                1056      \n",
      "                                                                 \n",
      " dense_5 (Dense)             (None, 5)                 165       \n",
      "                                                                 \n",
      "=================================================================\n",
      "Total params: 2,300,197\n",
      "Trainable params: 454,373\n",
      "Non-trainable params: 1,845,824\n",
      "_________________________________________________________________\n"
     ]
    }
   ],
   "source": [
    "base_model.trainable = True\n",
    "fine_tune_at = 151\n",
    "\n",
    "# Freeze all the layers before the `fine_tune_at` layer\n",
    "for layer in base_model.layers[:fine_tune_at]:\n",
    "  layer.trainable =  False\n",
    "  \n",
    "model.summary()\n"
   ]
  },
  {
   "cell_type": "code",
   "execution_count": 18,
   "metadata": {},
   "outputs": [],
   "source": [
    "#base_model.trainable = False\n",
    "#model.summary()"
   ]
  },
  {
   "cell_type": "code",
   "execution_count": 11,
   "metadata": {},
   "outputs": [
    {
     "name": "stdout",
     "output_type": "stream",
     "text": [
      "Model: \"model\"\n",
      "_________________________________________________________________\n",
      " Layer (type)                Output Shape              Param #   \n",
      "=================================================================\n",
      " input_2 (InputLayer)        [(None, 224, 224, 3)]     0         \n",
      "                                                                 \n",
      " mobilenetv2_1.00_224 (Funct  (None, 7, 7, 1280)       2257984   \n",
      " ional)                                                          \n",
      "                                                                 \n",
      " global_max_pooling2d (Globa  (None, 1280)             0         \n",
      " lMaxPooling2D)                                                  \n",
      "                                                                 \n",
      " dropout (Dropout)           (None, 1280)              0         \n",
      "                                                                 \n",
      " dense (Dense)               (None, 32)                40992     \n",
      "                                                                 \n",
      " dropout_1 (Dropout)         (None, 32)                0         \n",
      "                                                                 \n",
      " dense_1 (Dense)             (None, 32)                1056      \n",
      "                                                                 \n",
      " dense_2 (Dense)             (None, 6)                 198       \n",
      "                                                                 \n",
      "=================================================================\n",
      "Total params: 2,300,230\n",
      "Trainable params: 42,246\n",
      "Non-trainable params: 2,257,984\n",
      "_________________________________________________________________\n"
     ]
    }
   ],
   "source": [
    "# Compile the model with a low learning rate\n",
    "model.compile(\n",
    "    optimizer=keras.optimizers.RMSprop(learning_rate=0.00003),  # Adjust the learning rate as needed\n",
    "    loss='categorical_crossentropy',  # For multi-class classification\n",
    "    metrics=['accuracy'],\n",
    ")\n",
    "model.summary()"
   ]
  },
  {
   "cell_type": "code",
   "execution_count": 13,
   "metadata": {},
   "outputs": [],
   "source": [
    "callbacks=keras.callbacks.EarlyStopping(\n",
    "    monitor=\"loss\",\n",
    "    patience=3,\n",
    "    verbose=1,\n",
    "    min_delta=0.01\n",
    ")"
   ]
  },
  {
   "cell_type": "code",
   "execution_count": 20,
   "metadata": {},
   "outputs": [
    {
     "name": "stdout",
     "output_type": "stream",
     "text": [
      "Epoch 1/10\n",
      "341/341 [==============================] - 144s 413ms/step - loss: 0.6283 - accuracy: 0.7680 - val_loss: 0.3642 - val_accuracy: 0.9127\n",
      "Epoch 2/10\n",
      "341/341 [==============================] - 165s 484ms/step - loss: 0.5797 - accuracy: 0.7886 - val_loss: 0.3291 - val_accuracy: 0.9177\n",
      "Epoch 3/10\n",
      "341/341 [==============================] - 145s 426ms/step - loss: 0.5450 - accuracy: 0.8011 - val_loss: 0.3053 - val_accuracy: 0.9270\n",
      "Epoch 4/10\n",
      "341/341 [==============================] - 149s 438ms/step - loss: 0.5288 - accuracy: 0.8125 - val_loss: 0.2849 - val_accuracy: 0.9337\n",
      "Epoch 5/10\n",
      "341/341 [==============================] - 162s 475ms/step - loss: 0.4936 - accuracy: 0.8295 - val_loss: 0.2580 - val_accuracy: 0.9437\n",
      "Epoch 6/10\n",
      "341/341 [==============================] - 161s 471ms/step - loss: 0.4739 - accuracy: 0.8326 - val_loss: 0.2436 - val_accuracy: 0.9450\n",
      "Epoch 7/10\n",
      "341/341 [==============================] - 154s 453ms/step - loss: 0.4530 - accuracy: 0.8424 - val_loss: 0.2203 - val_accuracy: 0.9530\n",
      "Epoch 8/10\n",
      "341/341 [==============================] - 148s 432ms/step - loss: 0.4334 - accuracy: 0.8486 - val_loss: 0.2100 - val_accuracy: 0.9563\n",
      "Epoch 9/10\n",
      "341/341 [==============================] - 152s 447ms/step - loss: 0.4153 - accuracy: 0.8560 - val_loss: 0.1949 - val_accuracy: 0.9617\n",
      "Epoch 10/10\n",
      "341/341 [==============================] - 146s 427ms/step - loss: 0.3992 - accuracy: 0.8647 - val_loss: 0.1796 - val_accuracy: 0.9663\n"
     ]
    }
   ],
   "source": [
    "history1=model.fit(x = new_generator, validation_data = generator5, epochs = 10, callbacks=[callbacks])"
   ]
  },
  {
   "cell_type": "code",
   "execution_count": 21,
   "metadata": {},
   "outputs": [],
   "source": [
    "model.save(\"New models\\model12.1.h5\")"
   ]
  },
  {
   "cell_type": "code",
   "execution_count": 23,
   "metadata": {},
   "outputs": [
    {
     "name": "stdout",
     "output_type": "stream",
     "text": [
      "Epoch 1/5\n",
      "341/341 [==============================] - 157s 459ms/step - loss: 0.3758 - accuracy: 0.8754 - val_loss: 0.1739 - val_accuracy: 0.9627\n",
      "Epoch 2/5\n",
      "341/341 [==============================] - 156s 459ms/step - loss: 0.3677 - accuracy: 0.8768 - val_loss: 0.1691 - val_accuracy: 0.9667\n",
      "Epoch 3/5\n",
      "341/341 [==============================] - 159s 468ms/step - loss: 0.3467 - accuracy: 0.8851 - val_loss: 0.1512 - val_accuracy: 0.9740\n",
      "Epoch 4/5\n",
      "341/341 [==============================] - 162s 476ms/step - loss: 0.3514 - accuracy: 0.8842 - val_loss: 0.1499 - val_accuracy: 0.9740\n",
      "Epoch 5/5\n",
      "341/341 [==============================] - 157s 460ms/step - loss: 0.3290 - accuracy: 0.8919 - val_loss: 0.1389 - val_accuracy: 0.9730\n"
     ]
    }
   ],
   "source": [
    "history2=model.fit(x = new_generator, validation_data = generator5, epochs = 5, callbacks=[callbacks])"
   ]
  },
  {
   "cell_type": "code",
   "execution_count": 28,
   "metadata": {},
   "outputs": [],
   "source": [
    "model.save(\"New models\\model12.2.h5\")"
   ]
  },
  {
   "cell_type": "code",
   "execution_count": 14,
   "metadata": {},
   "outputs": [
    {
     "name": "stdout",
     "output_type": "stream",
     "text": [
      "Epoch 1/20\n",
      "341/341 [==============================] - 160s 380ms/step - loss: 0.3312 - accuracy: 0.8921 - val_loss: 0.1328 - val_accuracy: 0.9763\n",
      "Epoch 2/20\n",
      "341/341 [==============================] - 140s 410ms/step - loss: 0.3057 - accuracy: 0.9031 - val_loss: 0.1377 - val_accuracy: 0.9733\n",
      "Epoch 3/20\n",
      "341/341 [==============================] - 137s 401ms/step - loss: 0.2991 - accuracy: 0.9053 - val_loss: 0.1283 - val_accuracy: 0.9763\n",
      "Epoch 4/20\n",
      "341/341 [==============================] - 158s 463ms/step - loss: 0.2864 - accuracy: 0.9116 - val_loss: 0.1241 - val_accuracy: 0.9770\n",
      "Epoch 5/20\n",
      "341/341 [==============================] - 164s 480ms/step - loss: 0.2780 - accuracy: 0.9124 - val_loss: 0.1172 - val_accuracy: 0.9787\n",
      "Epoch 6/20\n",
      "341/341 [==============================] - 159s 467ms/step - loss: 0.2628 - accuracy: 0.9176 - val_loss: 0.1173 - val_accuracy: 0.9777\n",
      "Epoch 7/20\n",
      "341/341 [==============================] - 156s 458ms/step - loss: 0.2766 - accuracy: 0.9129 - val_loss: 0.1116 - val_accuracy: 0.9793\n",
      "Epoch 8/20\n",
      "341/341 [==============================] - 149s 437ms/step - loss: 0.2581 - accuracy: 0.9198 - val_loss: 0.1124 - val_accuracy: 0.9787\n",
      "Epoch 9/20\n",
      "341/341 [==============================] - 155s 455ms/step - loss: 0.2525 - accuracy: 0.9215 - val_loss: 0.1081 - val_accuracy: 0.9807\n",
      "Epoch 10/20\n",
      "341/341 [==============================] - 157s 460ms/step - loss: 0.2493 - accuracy: 0.9232 - val_loss: 0.0977 - val_accuracy: 0.9833\n",
      "Epoch 11/20\n",
      "341/341 [==============================] - 156s 457ms/step - loss: 0.2479 - accuracy: 0.9251 - val_loss: 0.1022 - val_accuracy: 0.9810\n",
      "Epoch 12/20\n",
      "341/341 [==============================] - 155s 455ms/step - loss: 0.2344 - accuracy: 0.9272 - val_loss: 0.1006 - val_accuracy: 0.9813\n",
      "Epoch 13/20\n",
      "341/341 [==============================] - 147s 431ms/step - loss: 0.2294 - accuracy: 0.9313 - val_loss: 0.1015 - val_accuracy: 0.9803\n",
      "Epoch 14/20\n",
      "341/341 [==============================] - 155s 453ms/step - loss: 0.2168 - accuracy: 0.9334 - val_loss: 0.0950 - val_accuracy: 0.9827\n",
      "Epoch 15/20\n",
      "341/341 [==============================] - 152s 446ms/step - loss: 0.2280 - accuracy: 0.9323 - val_loss: 0.0920 - val_accuracy: 0.9823\n",
      "Epoch 16/20\n",
      "341/341 [==============================] - 147s 432ms/step - loss: 0.2216 - accuracy: 0.9341 - val_loss: 0.0875 - val_accuracy: 0.9837\n",
      "Epoch 17/20\n",
      "341/341 [==============================] - 151s 443ms/step - loss: 0.2156 - accuracy: 0.9387 - val_loss: 0.0882 - val_accuracy: 0.9837\n",
      "Epoch 17: early stopping\n"
     ]
    }
   ],
   "source": [
    "history3=model.fit(x = new_generator, validation_data = generator5, epochs = 20, callbacks=[callbacks])"
   ]
  },
  {
   "cell_type": "code",
   "execution_count": 20,
   "metadata": {},
   "outputs": [],
   "source": [
    "model.save(\"New models\\model12.3.h5\")"
   ]
  },
  {
   "cell_type": "code",
   "execution_count": 24,
   "metadata": {},
   "outputs": [],
   "source": [
    "ahistory=history.history['accuracy']+history1.history['accuracy']+history2.history['accuracy']\n",
    "vhistory=history.history['val_accuracy']+history1.history['val_accuracy']+history2.history['val_accuracy']\n",
    "lhistory=history.history['loss']+history1.history['loss']+history2.history['loss']\n",
    "vlhistory=history.history['val_loss']+history1.history['val_loss']+history2.history['val_loss']\n"
   ]
  },
  {
   "cell_type": "markdown",
   "metadata": {},
   "source": [
    "## Evaluate the Model"
   ]
  },
  {
   "cell_type": "code",
   "execution_count": 26,
   "metadata": {},
   "outputs": [
    {
     "data": {
      "image/png": "[encoded data removed]",
      "text/plain": [
       "<Figure size 1200x600 with 2 Axes>"
      ]
     },
     "metadata": {},
     "output_type": "display_data"
    }
   ],
   "source": [
    "import matplotlib.pyplot as plt\n",
    "# Plot training & validation accuracy values\n",
    "plt.figure(figsize=(12, 6))\n",
    "plt.subplot(1, 2, 1)\n",
    "plt.plot(ahistory, label='Training Accuracy')\n",
    "plt.plot(vhistory, label='Validation Accuracy')\n",
    "plt.title('Model Accuracy')\n",
    "plt.xlabel('Epoch')\n",
    "plt.ylabel('Accuracy')\n",
    "plt.ylim(0.0, 1.0)\n",
    "plt.legend()\n",
    "\n",
    "# Plot training & validation loss values\n",
    "plt.subplot(1, 2, 2)\n",
    "plt.plot(lhistory, label='Training Loss')\n",
    "plt.plot(vlhistory, label='Validation Loss')\n",
    "plt.title('Model Loss')\n",
    "plt.xlabel('Epoch')\n",
    "plt.ylabel('Loss')\n",
    "plt.ylim(0.0, 1.0)\n",
    "plt.legend()\n",
    "# Show the plots\n",
    "plt.tight_layout()\n",
    "plt.show()"
   ]
  },
  {
   "cell_type": "code",
   "execution_count": 21,
   "metadata": {},
   "outputs": [
    {
     "name": "stdout",
     "output_type": "stream",
     "text": [
      "Found 3000 images belonging to 6 classes.\n",
      "47/47 [==============================] - 10s 206ms/step\n",
      "F1 Score: 0.9837\n"
     ]
    },
    {
     "data": {
      "image/png": "[encoded data removed]",
      "text/plain": [
       "<Figure size 800x600 with 2 Axes>"
      ]
     },
     "metadata": {},
     "output_type": "display_data"
    }
   ],
   "source": [
    "import cv2\n",
    "from sklearn.metrics import f1_score, confusion_matrix\n",
    "import seaborn as sns\n",
    "import matplotlib.pyplot as plt\n",
    "from keras.models import load_model\n",
    "from keras.preprocessing.image import ImageDataGenerator\n",
    "import numpy as np\n",
    "img_size = 224\n",
    "batch_size=64\n",
    "# Load the pre-trained model\n",
    "#model_path = r'C:\\Users\\Acer\\Desktop\\Minor Project\\New models\\model12.1.h5'\n",
    "#model = load_model(model_path)\n",
    "\n",
    "# Set the path to your test dataset\n",
    "test_data_dir = r'C:\\Users\\Acer\\Desktop\\Minor Project\\Split\\val'\n",
    "\n",
    "# Data Preprocessing for testing set\n",
    "test_datagen = ImageDataGenerator(rescale=1./255,)\n",
    "\n",
    "test_generator = test_datagen.flow_from_directory(\n",
    "    test_data_dir,\n",
    "    target_size=(img_size,img_size),\n",
    "    batch_size=batch_size,\n",
    "    class_mode='categorical',\n",
    "    shuffle=False\n",
    ")  # Ensure labels are in the same order as predictions\n",
    "\n",
    "# Get true labels\n",
    "true_labels = test_generator.classes\n",
    "\n",
    "# Make predictions\n",
    "predictions = model.predict(test_generator)\n",
    "\n",
    "# Get predicted labels\n",
    "predicted_labels = np.argmax(predictions, axis=1)\n",
    "\n",
    "# Calculate F1 score\n",
    "f1 = f1_score(true_labels, predicted_labels, average='weighted')\n",
    "\n",
    "# Calculate Confusion Matrix\n",
    "conf_matrix = confusion_matrix(true_labels, predicted_labels)\n",
    "\n",
    "# Display F1 score\n",
    "print(f\"F1 Score: {f1:.4f}\")\n",
    "\n",
    "# Display Confusion Matrix with rotated x-axis labels\n",
    "plt.figure(figsize=(8, 6))\n",
    "sns.heatmap(conf_matrix, annot=True, fmt='d', cmap='Blues', xticklabels=test_generator.class_indices, yticklabels=test_generator.class_indices, cbar=True)\n",
    "plt.title('Confusion Matrix')\n",
    "plt.xlabel('Predicted Labels')\n",
    "plt.ylabel('True Labels')\n",
    "plt.xticks(rotation=45, ha=\"right\")  # Rotate x-axis labels\n",
    "plt.show()\n"
   ]
  },
  {
   "cell_type": "code",
   "execution_count": 19,
   "metadata": {},
   "outputs": [
    {
     "name": "stdout",
     "output_type": "stream",
     "text": [
      "1/1 [==============================] - 0s 32ms/step\n",
      "[9.9648201e-01 2.8188853e-07 1.7592379e-08 2.1298579e-06 6.9790491e-04\n",
      " 2.8177206e-03]\n",
      "Chaar Narayan Temple: 99.65%\n",
      "Chyasin Dega: 0.00%\n",
      "Krishna Mandir: 0.00%\n",
      "Not a Monument: 0.00%\n",
      "Shree Bhimsen Temple: 0.07%\n",
      "Vishwanath Temple: 0.28%\n"
     ]
    }
   ],
   "source": [
    "import tensorflow as tf\n",
    "import cv2\n",
    "import numpy as np\n",
    "from keras.preprocessing import image\n",
    "\n",
    "# Load the trained model\n",
    "#model = tf.keras.models.load_model(r'C:\\Users\\Acer\\Desktop\\Minor Project\\New models\\model11.h5')\n",
    "\n",
    "# Path to the single image you want to predict\n",
    "\n",
    "class_names = ['Chaar Narayan Temple', 'Chyasin Dega', 'Krishna Mandir','Not a Monument', 'Shree Bhimsen Temple', 'Vishwanath Temple']\n",
    "\n",
    "import numpy as np\n",
    "from PIL import Image\n",
    "\n",
    "# Load the image using a suitable image library\n",
    "img = Image.open(r\"C:\\Users\\Acer\\Desktop\\Minor Project\\Dataset After Split\\Chaar Narayan Temple\\test\\East\\augmented_0_IMG_20231224_080110.jpg\").convert('RGB')\n",
    "\n",
    "# Resize the image to match the model's input dimensions\n",
    "img = img.resize((img_size, img_size))  # Assuming model expects 128x128 images\n",
    "\n",
    "# Convert the image to a NumPy array\n",
    "img_array = np.array(img)\n",
    "\n",
    "# Normalize pixel values to [0, 1] range (if model expects that)\n",
    "img_array = img_array / 255.0\n",
    "\n",
    "# Expand dimensions to create a batch of 1 image\n",
    "img_batch = np.expand_dims(img_array, axis=0)\n",
    "\n",
    "# Pass the image batch through the model\n",
    "predictions = model.predict(img_batch)\n",
    "\n",
    "# Extract the predicted probabilities for each class\n",
    "probabilities = predictions[0]  # Access the probabilities for the first (and only) image\n",
    "print(probabilities)\n",
    "\n",
    "# ...\n",
    "\n",
    "# Print class names along with predicted probabilities\n",
    "for class_name, probability in zip(class_names, probabilities):\n",
    "    probability_percentage = probability * 100\n",
    "    print(f\"{class_name}: {probability_percentage:.2f}%\")\n",
    "# ..."
   ]
  },
  {
   "cell_type": "code",
   "execution_count": null,
   "metadata": {},
   "outputs": [],
   "source": []
  },
  {
   "cell_type": "code",
   "execution_count": 22,
   "metadata": {},
   "outputs": [
    {
     "name": "stderr",
     "output_type": "stream",
     "text": [
      "WARNING:absl:Found untraced functions such as _jit_compiled_convolution_op, _jit_compiled_convolution_op, _jit_compiled_convolution_op, _jit_compiled_convolution_op, _jit_compiled_convolution_op while saving (showing 5 of 52). These functions will not be directly callable after loading.\n"
     ]
    },
    {
     "name": "stdout",
     "output_type": "stream",
     "text": [
      "INFO:tensorflow:Assets written to: C:\\Users\\Acer\\AppData\\Local\\Temp\\tmptc5akwj6\\assets\n"
     ]
    },
    {
     "name": "stderr",
     "output_type": "stream",
     "text": [
      "INFO:tensorflow:Assets written to: C:\\Users\\Acer\\AppData\\Local\\Temp\\tmptc5akwj6\\assets\n",
      "c:\\Users\\Acer\\Desktop\\Minor Project\\.venv\\lib\\site-packages\\tensorflow\\lite\\python\\convert.py:766: UserWarning: Statistics for quantized inputs were expected, but not specified; continuing anyway.\n",
      "  warnings.warn(\"Statistics for quantized inputs were expected, but not \"\n"
     ]
    },
    {
     "name": "stdout",
     "output_type": "stream",
     "text": [
      "Input Shape: [  1 224 224   3]\n",
      "Input Type: <class 'numpy.uint8'>\n",
      "Output Shape: [1 6]\n",
      "Output Type: <class 'numpy.uint8'>\n",
      "Finished populating metadata and associated file to the model:\n",
      "C:\\Users\\Acer\\Desktop\\Minor Project\\model12.3_quantized.tflite\n",
      "The metadata json file has been saved to:\n",
      "C:\\Users\\Acer\\Desktop\\Minor Project\\model_with_metadata\\model12.3_quantized.json\n",
      "The associated file that has been been packed to the model is:\n",
      "['labels.txt']\n"
     ]
    }
   ],
   "source": [
    "import tensorflow as tf\n",
    "import numpy as np\n",
    "from keras.preprocessing.image import ImageDataGenerator\n",
    "from keras.models import load_model\n",
    "#model_path = r'C:\\Users\\Acer\\Desktop\\Minor Project\\New models\\model6.h5'\n",
    "#model = load_model(model_path)\n",
    "\n",
    "test_data_dir = r'C:\\Users\\Acer\\Desktop\\Minor Project\\Split\\test\\Shree Bhimsen Temple'\n",
    "\n",
    "IMAGE_SIZE=224\n",
    "def representative_data_gen():\n",
    "  dataset_list = tf.data.Dataset.list_files(test_data_dir + '/*/*')\n",
    "  for i in range(100):\n",
    "    image = next(iter(dataset_list))\n",
    "    image = tf.io.read_file(image)\n",
    "    image = tf.io.decode_jpeg(image, channels=3)\n",
    "    image = tf.image.resize(image, [IMAGE_SIZE, IMAGE_SIZE])\n",
    "    image = tf.cast(image / 255., tf.float32)\n",
    "    image = tf.expand_dims(image, 0)\n",
    "    yield [image]\n",
    "\n",
    "converter = tf.lite.TFLiteConverter.from_keras_model(model)\n",
    "converter.optimizations = [tf.lite.Optimize.DEFAULT]\n",
    "converter.inference_input_type=tf.uint8\n",
    "converter.inference_output_type=tf.uint8\n",
    "converter.representative_dataset = representative_data_gen\n",
    "converter.target_spec.supported_ops = [tf.lite.OpsSet.TFLITE_BUILTINS_INT8]\n",
    "tflite_model = converter.convert()\n",
    "with open('model12.3_quantized.tflite', 'wb') as f:\n",
    "  f.write(tflite_model)\n",
    "  \n",
    "interpreter=tf.lite.Interpreter(model_path='model12.3_quantized.tflite')\n",
    "input_details = interpreter.get_input_details()\n",
    "output_details = interpreter.get_output_details()\n",
    "print(\"Input Shape:\",input_details[0]['shape'])\n",
    "print(\"Input Type:\",input_details[0]['dtype'])\n",
    "print(\"Output Shape:\",output_details[0]['shape'])\n",
    "print(\"Output Type:\",output_details[0]['dtype'])\n",
    "\"\"\"Writes metadata and label file to the image classifier models.\"\"\"\n",
    "\n",
    "from __future__ import absolute_import\n",
    "from __future__ import division\n",
    "from __future__ import print_function\n",
    "\n",
    "import os\n",
    "import tensorflow as tf\n",
    "import flatbuffers\n",
    "from tflite_support import metadata_schema_py_generated as _metadata_fb\n",
    "from tflite_support import metadata as _metadata\n",
    "\n",
    "# Define the paths to the model file, label file, and export directory\n",
    "model_file = r\"C:\\Users\\Acer\\Desktop\\Minor Project\\model12.3_quantized.tflite\"\n",
    "label_file = r\"C:\\Users\\Acer\\Desktop\\Minor Project\\labels.txt\"\n",
    "export_directory = r\"C:\\Users\\Acer\\Desktop\\Minor Project\\model_with_metadata\"\n",
    "\n",
    "class ModelSpecificInfo(object):\n",
    "    \"\"\"Holds information that is specifically tied to an image classifier.\"\"\"\n",
    "\n",
    "    def __init__(self, name, version, image_width, image_height, image_min,\n",
    "                image_max, mean, std, num_classes, author):\n",
    "        self.name = name\n",
    "        self.version = version\n",
    "        self.image_width = image_width\n",
    "        self.image_height = image_height\n",
    "        self.image_min = image_min\n",
    "        self.image_max = image_max\n",
    "        self.mean = mean\n",
    "        self.std = std\n",
    "        self.num_classes = num_classes\n",
    "        self.author = author\n",
    "\n",
    "_MODEL_INFO = {\n",
    "    \"model12.3_quantized.tflite\":\n",
    "        ModelSpecificInfo(\n",
    "            name=\"image classifier\",\n",
    "            version=\"v1\",\n",
    "            image_width=224,\n",
    "            image_height=224,\n",
    "            image_min=0,\n",
    "            image_max=255,\n",
    "            mean=[0],\n",
    "            std=[255],\n",
    "            num_classes=5,\n",
    "            author=\"Aayush\")\n",
    "}\n",
    "\n",
    "\n",
    "class MetadataPopulatorForImageClassifier(object):\n",
    "    \"\"\"Populates the metadata for an image classifier.\"\"\"\n",
    "\n",
    "    def __init__(self, model_file, model_info, label_file_path):\n",
    "        self.model_file = model_file\n",
    "        self.model_info = model_info\n",
    "        self.label_file_path = label_file_path\n",
    "        self.metadata_buf = None\n",
    "\n",
    "    def populate(self):\n",
    "        \"\"\"Creates metadata and then populates it for an image classifier.\"\"\"\n",
    "        self._create_metadata()\n",
    "        self._populate_metadata()\n",
    "\n",
    "    def _create_metadata(self):\n",
    "        \"\"\"Creates the metadata for an image classifier.\"\"\"\n",
    "\n",
    "        # Creates model info.\n",
    "        model_meta = _metadata_fb.ModelMetadataT()\n",
    "        model_meta.name = self.model_info.name\n",
    "        model_meta.description = (\"Identify the most prominent object in the \"\n",
    "                                \"image from a set of %d categories.\" %\n",
    "                                self.model_info.num_classes)\n",
    "        model_meta.version = self.model_info.version\n",
    "        model_meta.author = self.model_info.author\n",
    "        model_meta.license = (\"Apache License. Version 2.0 \"\n",
    "                            \"http://www.apache.org/licenses/LICENSE-2.0.\")\n",
    "\n",
    "        # Creates input info.\n",
    "        input_meta = _metadata_fb.TensorMetadataT()\n",
    "        input_meta.name = \"image\"\n",
    "        input_meta.description = (\n",
    "            \"Input image to be classified. The expected image is {0} x {1}, with \"\n",
    "            \"three channels (red, blue, and green) per pixel. Each value in the \"\n",
    "            \"tensor is a single byte between {2} and {3}.\".format(\n",
    "                self.model_info.image_width, self.model_info.image_height,\n",
    "                self.model_info.image_min, self.model_info.image_max))\n",
    "        input_meta.content = _metadata_fb.ContentT()\n",
    "        input_meta.content.contentProperties = _metadata_fb.ImagePropertiesT()\n",
    "        input_meta.content.contentProperties.colorSpace = (\n",
    "            _metadata_fb.ColorSpaceType.RGB)\n",
    "        input_meta.content.contentPropertiesType = (\n",
    "            _metadata_fb.ContentProperties.ImageProperties)\n",
    "        input_normalization = _metadata_fb.ProcessUnitT()\n",
    "        input_normalization.optionsType = (\n",
    "            _metadata_fb.ProcessUnitOptions.NormalizationOptions)\n",
    "        input_normalization.options = _metadata_fb.NormalizationOptionsT()\n",
    "        input_normalization.options.mean = self.model_info.mean\n",
    "        input_normalization.options.std = self.model_info.std\n",
    "        input_meta.processUnits = [input_normalization]\n",
    "        input_stats = _metadata_fb.StatsT()\n",
    "        input_stats.max = [self.model_info.image_max]\n",
    "        input_stats.min = [self.model_info.image_min]\n",
    "        input_meta.stats = input_stats\n",
    "\n",
    "        # Creates output info.\n",
    "        output_meta = _metadata_fb.TensorMetadataT()\n",
    "        output_meta.name = \"probability\"\n",
    "        output_meta.description = \"Probabilities of the %d labels respectively.\" % self.model_info.num_classes\n",
    "        output_meta.content = _metadata_fb.ContentT()\n",
    "        output_meta.content.content_properties = _metadata_fb.FeaturePropertiesT()\n",
    "        output_meta.content.contentPropertiesType = (\n",
    "            _metadata_fb.ContentProperties.FeatureProperties)\n",
    "        output_stats = _metadata_fb.StatsT()\n",
    "        output_stats.max = [1.0]\n",
    "        output_stats.min = [0.0]\n",
    "        output_meta.stats = output_stats\n",
    "        label_file = _metadata_fb.AssociatedFileT()\n",
    "        label_file.name = os.path.basename(self.label_file_path)\n",
    "        label_file.description = \"Labels for objects that the model can recognize.\"\n",
    "        label_file.type = _metadata_fb.AssociatedFileType.TENSOR_AXIS_LABELS\n",
    "        output_meta.associatedFiles = [label_file]\n",
    "\n",
    "        # Creates subgraph info.\n",
    "        subgraph = _metadata_fb.SubGraphMetadataT()\n",
    "        subgraph.inputTensorMetadata = [input_meta]\n",
    "        subgraph.outputTensorMetadata = [output_meta]\n",
    "        model_meta.subgraphMetadata = [subgraph]\n",
    "\n",
    "        b = flatbuffers.Builder(0)\n",
    "        b.Finish(\n",
    "            model_meta.Pack(b),\n",
    "            _metadata.MetadataPopulator.METADATA_FILE_IDENTIFIER)\n",
    "        self.metadata_buf = b.Output()\n",
    "\n",
    "    def _populate_metadata(self):\n",
    "        \"\"\"Populates metadata and label file to the model file.\"\"\"\n",
    "        populator = _metadata.MetadataPopulator.with_model_file(self.model_file)\n",
    "        populator.load_metadata_buffer(self.metadata_buf)\n",
    "        populator.load_associated_files([self.label_file_path])\n",
    "        populator.populate()\n",
    "\n",
    "def main():\n",
    "    global model_file\n",
    "    model_basename = os.path.basename(model_file)\n",
    "    if model_basename not in _MODEL_INFO:\n",
    "        raise ValueError(\n",
    "            \"The model info for, {0}, is not defined yet.\".format(model_basename))\n",
    "\n",
    "    export_model_path = os.path.join(export_directory, model_basename)\n",
    "\n",
    "    # Copies model_file to export_path.\n",
    "    tf.io.gfile.copy(model_file, export_model_path, overwrite=False)\n",
    "\n",
    "    # Generate the metadata objects and put them in the model file\n",
    "    populator = MetadataPopulatorForImageClassifier(\n",
    "        export_model_path, _MODEL_INFO.get(model_basename), label_file)\n",
    "    populator.populate()\n",
    "\n",
    "    # Validate the output model file by reading the metadata and produce\n",
    "    # a json file with the metadata under the export path\n",
    "    displayer = _metadata.MetadataDisplayer.with_model_file(export_model_path)\n",
    "    export_json_file = os.path.join(export_directory,\n",
    "                                    os.path.splitext(model_basename)[0] + \".json\")\n",
    "    json_file = displayer.get_metadata_json()\n",
    "    with open(export_json_file, \"w\") as f:\n",
    "        f.write(json_file)\n",
    "\n",
    "    print(\"Finished populating metadata and associated file to the model:\")\n",
    "    print(model_file)\n",
    "    print(\"The metadata json file has been saved to:\")\n",
    "    print(export_json_file)\n",
    "    print(\"The associated file that has been been packed to the model is:\")\n",
    "    print(displayer.get_packed_associated_file_list())\n",
    "\n",
    "\n",
    "if __name__ == \"__main__\":\n",
    "    main()\n"
   ]
  }
 ],
 "metadata": {
  "kernelspec": {
   "display_name": "Python 3 (ipykernel)",
   "language": "python",
   "name": "python3"
  },
  "language_info": {
   "codemirror_mode": {
    "name": "ipython",
    "version": 3
   },
   "file_extension": ".py",
   "mimetype": "text/x-python",
   "name": "python",
   "nbconvert_exporter": "python",
   "pygments_lexer": "ipython3",
   "version": "3.10.11"
  }
 },
 "nbformat": 4,
 "nbformat_minor": 4
}
