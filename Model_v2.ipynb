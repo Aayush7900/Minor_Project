{
 "cells": [
  {
   "cell_type": "code",
   "execution_count": null,
   "metadata": {},
   "outputs": [],
   "source": [
    "#model with reduced dense layers"
   ]
  },
  {
   "cell_type": "code",
   "execution_count": 1,
   "metadata": {},
   "outputs": [],
   "source": [
    "import tensorflow as tf\n",
    "import cv2\n",
    "import numpy as np\n",
    "import matplotlib.pyplot as plt\n",
    "from keras.preprocessing.image import ImageDataGenerator\n",
    "import os"
   ]
  },
  {
   "cell_type": "code",
   "execution_count": 2,
   "metadata": {},
   "outputs": [],
   "source": [
    "from keras.utils import Sequence\n",
    "from keras.layers import Conv2D, DepthwiseConv2D, SeparableConv2D\n",
    "from keras.layers import BatchNormalization, ReLU, GlobalAveragePooling2D\n",
    "from keras.models import Model\n",
    "from keras.layers import Dense\n"
   ]
  },
  {
   "cell_type": "code",
   "execution_count": 3,
   "metadata": {},
   "outputs": [],
   "source": [
    "train_data_dir=r\"C:\\Users\\Acer\\Desktop\\Minor Project\\Split\\train\"\n",
    "img_size=128\n",
    "batch_size=64"
   ]
  },
  {
   "cell_type": "code",
   "execution_count": 4,
   "metadata": {},
   "outputs": [
    {
     "name": "stdout",
     "output_type": "stream",
     "text": [
      "1 Physical GPUs, 1 Logical GPUs\n"
     ]
    }
   ],
   "source": [
    "gpus = tf.config.list_physical_devices('GPU')\n",
    "if gpus:\n",
    "  try:\n",
    "    # Currently, memory growth needs to be the same across GPUs\n",
    "    for gpu in gpus:\n",
    "      tf.config.experimental.set_memory_growth(gpu, True)\n",
    "    logical_gpus = tf.config.list_logical_devices('GPU')\n",
    "    print(len(gpus), \"Physical GPUs,\", len(logical_gpus), \"Logical GPUs\")\n",
    "  except RuntimeError as e:\n",
    "    # Memory growth must be set before GPUs have been initialized\n",
    "    print(e)"
   ]
  },
  {
   "cell_type": "code",
   "execution_count": 5,
   "metadata": {},
   "outputs": [],
   "source": [
    "os.environ[\"CUDA_VISIBLE_DEVICES\"] = \"1\" \n",
    "gpus = tf.config.experimental.list_physical_devices('GPU')\n",
    "if gpus:\n",
    "   for gpu in gpus:\n",
    "      tf.config.experimental.set_memory_growth(gpu, True)"
   ]
  },
  {
   "cell_type": "code",
   "execution_count": 6,
   "metadata": {},
   "outputs": [],
   "source": [
    "class MergedGenerators(Sequence):\n",
    "    def __init__(self, generators):\n",
    "        self.generators = generators\n",
    "        self.lengths = [len(gen) for gen in generators]\n",
    "        self.cumulative_lengths = np.cumsum(self.lengths)\n",
    "\n",
    "    def __len__(self):\n",
    "        return self.cumulative_lengths[-1]\n",
    "\n",
    "    def __getitem__(self, index):\n",
    "        generator_index = np.argmax(index < self.cumulative_lengths)\n",
    "        if generator_index > 0:\n",
    "            sample_index = index - self.cumulative_lengths[generator_index - 1]\n",
    "        else:\n",
    "            sample_index = index\n",
    "\n",
    "        # Get the data and labels from the corresponding generator\n",
    "        data, labels = self.generators[generator_index][sample_index]\n",
    "        return data, labels"
   ]
  },
  {
   "cell_type": "code",
   "execution_count": 7,
   "metadata": {},
   "outputs": [],
   "source": [
    "def grayscale_conversion(image):\n",
    "    grayscale_image = cv2.cvtColor(image, cv2.COLOR_BGR2GRAY)\n",
    "    # Repeat the single channel across three channels\n",
    "    grayscale_image = np.stack((grayscale_image,) * 3, axis=-1)\n",
    "    return grayscale_image"
   ]
  },
  {
   "cell_type": "code",
   "execution_count": 8,
   "metadata": {},
   "outputs": [],
   "source": [
    "normal_datagen = ImageDataGenerator(\n",
    "    rescale=1.0 / 255,\n",
    ")\n",
    "noisy_datagen = ImageDataGenerator(\n",
    "    rescale=1.0 / 255,\n",
    "    preprocessing_function=lambda x: x + np.random.normal(0, 0.1, x.shape),  # Add noise\n",
    ")\n",
    "shaded_datagen = ImageDataGenerator(\n",
    "    rescale=1.0 / 255,\n",
    "    brightness_range=[0.5, 1.5],  # Adjust the range for shading\n",
    ")\n",
    "grayscale_datagen = ImageDataGenerator(\n",
    "    preprocessing_function= grayscale_conversion,\n",
    "    rescale=1.0 / 255,\n",
    ")"
   ]
  },
  {
   "cell_type": "code",
   "execution_count": 9,
   "metadata": {},
   "outputs": [
    {
     "name": "stdout",
     "output_type": "stream",
     "text": [
      "Found 8400 images belonging to 5 classes.\n",
      "Found 8400 images belonging to 5 classes.\n",
      "Found 8400 images belonging to 5 classes.\n",
      "Found 8400 images belonging to 5 classes.\n"
     ]
    }
   ],
   "source": [
    "generator1 = normal_datagen.flow_from_directory(\n",
    "    train_data_dir,\n",
    "    target_size=(img_size,img_size),\n",
    "    batch_size=batch_size,\n",
    "    shuffle=True,\n",
    "    seed=42,\n",
    "    class_mode='categorical'\n",
    ")\n",
    "generator2 = shaded_datagen.flow_from_directory(\n",
    "    train_data_dir,\n",
    "    target_size=(img_size,img_size),\n",
    "    batch_size=batch_size,\n",
    "    shuffle=True,\n",
    "    seed=42,\n",
    "    class_mode='categorical'\n",
    ")\n",
    "generator3 = noisy_datagen.flow_from_directory(\n",
    "    train_data_dir,\n",
    "    target_size=(img_size,img_size),\n",
    "    batch_size=batch_size,\n",
    "    shuffle=True,\n",
    "    seed=42,\n",
    "    class_mode='categorical'\n",
    ")\n",
    "generator4 = grayscale_datagen.flow_from_directory(\n",
    "    train_data_dir,\n",
    "    target_size=(img_size,img_size),\n",
    "    batch_size=batch_size,\n",
    "    shuffle=True,\n",
    "    seed=42,\n",
    "    class_mode='categorical'\n",
    ")"
   ]
  },
  {
   "cell_type": "code",
   "execution_count": null,
   "metadata": {},
   "outputs": [],
   "source": [
    "\"\"\"\n",
    "# Get a batch of images from the generator\n",
    "batch_images, batch_labels = generator4.next()\n",
    "\n",
    "# Set the number of images to display in each row\n",
    "num_images_per_row = 8\n",
    "\n",
    "# Calculate the number of rows needed\n",
    "num_rows = int(len(batch_images) / num_images_per_row) + 1\n",
    "\n",
    "# Display the images\n",
    "fig, axes = plt.subplots(num_rows, num_images_per_row, figsize=(200, 200))\n",
    "\n",
    "# Flatten the axes array if there is only one row\n",
    "if num_rows == 1:\n",
    "    axes = axes.reshape(1, -1)\n",
    "\n",
    "for i in range(len(batch_images)):\n",
    "    row_index = i // num_images_per_row\n",
    "    col_index = i % num_images_per_row\n",
    "    axes[row_index, col_index].imshow(batch_images[i])\n",
    "    axes[row_index, col_index].axis('off')\n",
    "plt.show()\n",
    "\"\"\""
   ]
  },
  {
   "cell_type": "code",
   "execution_count": 11,
   "metadata": {},
   "outputs": [],
   "source": [
    "combined_generator = MergedGenerators([generator1, generator2, generator3, generator4])"
   ]
  },
  {
   "cell_type": "code",
   "execution_count": 12,
   "metadata": {},
   "outputs": [],
   "source": [
    "cnn = tf.keras.models.Sequential()\n",
    "cnn.add(tf.keras.layers.Conv2D(filters=32, kernel_size=3, activation='relu', input_shape=[img_size, img_size, 3]))\n",
    "cnn.add(tf.keras.layers.MaxPool2D(pool_size=2, strides=2))\n",
    "cnn.add(tf.keras.layers.Conv2D(filters=32, kernel_size=3, activation='relu'))\n",
    "cnn.add(tf.keras.layers.MaxPool2D(pool_size=2, strides=2))\n",
    "cnn.add(tf.keras.layers.Dropout(0.25))\n",
    "cnn.add(tf.keras.layers.Flatten())\n",
    "cnn.add(tf.keras.layers.Dense(units=64, activation='relu'))\n",
    "cnn.add(tf.keras.layers.Dropout(0.25))\n",
    "cnn.add(tf.keras.layers.Dense(units=5, activation='softmax'))\n",
    "cnn.compile(optimizer = 'adam', loss = 'binary_crossentropy', metrics = ['accuracy'])"
   ]
  },
  {
   "cell_type": "code",
   "execution_count": 13,
   "metadata": {},
   "outputs": [
    {
     "name": "stdout",
     "output_type": "stream",
     "text": [
      "Found 2400 images belonging to 5 classes.\n"
     ]
    }
   ],
   "source": [
    "test_data_dir=r\"C:\\Users\\Acer\\Desktop\\Minor Project\\Split\\val\"\n",
    "test_datagen = ImageDataGenerator(rescale = 1.0/255)\n",
    "\n",
    "test_generator = test_datagen.flow_from_directory(\n",
    "    test_data_dir,\n",
    "    target_size=(img_size, img_size),\n",
    "    batch_size=batch_size,\n",
    "    class_mode='categorical'\n",
    ")"
   ]
  },
  {
   "cell_type": "code",
   "execution_count": 14,
   "metadata": {},
   "outputs": [
    {
     "name": "stdout",
     "output_type": "stream",
     "text": [
      "Epoch 1/5\n",
      "528/528 [==============================] - 168s 287ms/step - loss: 0.1964 - accuracy: 0.8009 - val_loss: 0.0418 - val_accuracy: 0.9700\n",
      "Epoch 2/5\n",
      "528/528 [==============================] - 142s 268ms/step - loss: 0.0540 - accuracy: 0.9588 - val_loss: 0.0270 - val_accuracy: 0.9771\n",
      "Epoch 3/5\n",
      "528/528 [==============================] - 142s 269ms/step - loss: 0.0326 - accuracy: 0.9762 - val_loss: 0.0279 - val_accuracy: 0.9808\n",
      "Epoch 4/5\n",
      "528/528 [==============================] - 146s 276ms/step - loss: 0.0211 - accuracy: 0.9848 - val_loss: 0.0244 - val_accuracy: 0.9796\n",
      "Epoch 5/5\n",
      "528/528 [==============================] - 167s 316ms/step - loss: 0.0198 - accuracy: 0.9866 - val_loss: 0.0244 - val_accuracy: 0.9821\n"
     ]
    }
   ],
   "source": [
    "history=cnn.fit(x = combined_generator, validation_data = test_generator, epochs = 5)"
   ]
  },
  {
   "cell_type": "code",
   "execution_count": 18,
   "metadata": {},
   "outputs": [],
   "source": [
    "cnn.save(r'C:\\Users\\Acer\\Desktop\\Minor Project\\Model_v2.h5')"
   ]
  },
  {
   "cell_type": "code",
   "execution_count": 16,
   "metadata": {},
   "outputs": [
    {
     "data": {
      "image/png": "[encoded data removed]",
      "text/plain": [
       "<Figure size 1200x600 with 2 Axes>"
      ]
     },
     "metadata": {},
     "output_type": "display_data"
    }
   ],
   "source": [
    "# Plot training & validation accuracy values\n",
    "plt.figure(figsize=(12, 6))\n",
    "plt.subplot(1, 2, 1)\n",
    "plt.plot(history.history['accuracy'], label='Training Accuracy')\n",
    "plt.plot(history.history['val_accuracy'], label='Validation Accuracy')\n",
    "plt.title('Model Accuracy')\n",
    "plt.xlabel('Epoch')\n",
    "plt.ylabel('Accuracy')\n",
    "plt.ylim(0.0, 1.0)\n",
    "plt.legend()\n",
    "\n",
    "# Plot training & validation loss values\n",
    "plt.subplot(1, 2, 2)\n",
    "plt.plot(history.history['loss'], label='Training Loss')\n",
    "plt.plot(history.history['val_loss'], label='Validation Loss')\n",
    "plt.title('Model Loss')\n",
    "plt.xlabel('Epoch')\n",
    "plt.ylabel('Loss')\n",
    "plt.legend()\n",
    "plt.ylim(0.0, 1.0)\n",
    "# Show the plots\n",
    "plt.tight_layout()\n",
    "plt.show()"
   ]
  },
  {
   "cell_type": "code",
   "execution_count": 3,
   "metadata": {},
   "outputs": [
    {
     "name": "stdout",
     "output_type": "stream",
     "text": [
      "Model: \"sequential\"\n",
      "_________________________________________________________________\n",
      " Layer (type)                Output Shape              Param #   \n",
      "=================================================================\n",
      " conv2d (Conv2D)             (None, 126, 126, 32)      896       \n",
      "                                                                 \n",
      " max_pooling2d (MaxPooling2D  (None, 63, 63, 32)       0         \n",
      " )                                                               \n",
      "                                                                 \n",
      " conv2d_1 (Conv2D)           (None, 61, 61, 32)        9248      \n",
      "                                                                 \n",
      " max_pooling2d_1 (MaxPooling  (None, 30, 30, 32)       0         \n",
      " 2D)                                                             \n",
      "                                                                 \n",
      " flatten (Flatten)           (None, 28800)             0         \n",
      "                                                                 \n",
      " dense (Dense)               (None, 64)                1843264   \n",
      "                                                                 \n",
      " dropout (Dropout)           (None, 64)                0         \n",
      "                                                                 \n",
      " dense_1 (Dense)             (None, 5)                 325       \n",
      "                                                                 \n",
      "=================================================================\n",
      "Total params: 1,853,733\n",
      "Trainable params: 1,853,733\n",
      "Non-trainable params: 0\n",
      "_________________________________________________________________\n"
     ]
    },
    {
     "ename": "NameError",
     "evalue": "name 'ImageDataGenerator' is not defined",
     "output_type": "error",
     "traceback": [
      "\u001b[1;31m---------------------------------------------------------------------------\u001b[0m",
      "\u001b[1;31mNameError\u001b[0m                                 Traceback (most recent call last)",
      "Cell \u001b[1;32mIn[3], line 14\u001b[0m\n\u001b[0;32m     11\u001b[0m test_data_dir \u001b[38;5;241m=\u001b[39m \u001b[38;5;124mr\u001b[39m\u001b[38;5;124m'\u001b[39m\u001b[38;5;124mC:\u001b[39m\u001b[38;5;124m\\\u001b[39m\u001b[38;5;124mUsers\u001b[39m\u001b[38;5;124m\\\u001b[39m\u001b[38;5;124mAcer\u001b[39m\u001b[38;5;124m\\\u001b[39m\u001b[38;5;124mDesktop\u001b[39m\u001b[38;5;124m\\\u001b[39m\u001b[38;5;124mMinor Project\u001b[39m\u001b[38;5;124m\\\u001b[39m\u001b[38;5;124mSplit\u001b[39m\u001b[38;5;124m\\\u001b[39m\u001b[38;5;124mtest\u001b[39m\u001b[38;5;124m'\u001b[39m\n\u001b[0;32m     13\u001b[0m \u001b[38;5;66;03m# Data Preprocessing for testing set\u001b[39;00m\n\u001b[1;32m---> 14\u001b[0m test_datagen \u001b[38;5;241m=\u001b[39m \u001b[43mImageDataGenerator\u001b[49m(rescale\u001b[38;5;241m=\u001b[39m\u001b[38;5;241m1.\u001b[39m\u001b[38;5;241m/\u001b[39m\u001b[38;5;241m255\u001b[39m,)\n\u001b[0;32m     16\u001b[0m test_generator \u001b[38;5;241m=\u001b[39m test_datagen\u001b[38;5;241m.\u001b[39mflow_from_directory(\n\u001b[0;32m     17\u001b[0m     test_data_dir,\n\u001b[0;32m     18\u001b[0m     target_size\u001b[38;5;241m=\u001b[39m(img_size,img_size),\n\u001b[1;32m   (...)\u001b[0m\n\u001b[0;32m     21\u001b[0m     shuffle\u001b[38;5;241m=\u001b[39m\u001b[38;5;28;01mFalse\u001b[39;00m\n\u001b[0;32m     22\u001b[0m )  \u001b[38;5;66;03m# Ensure labels are in the same order as predictions\u001b[39;00m\n\u001b[0;32m     24\u001b[0m \u001b[38;5;66;03m# Get true labels\u001b[39;00m\n",
      "\u001b[1;31mNameError\u001b[0m: name 'ImageDataGenerator' is not defined"
     ]
    }
   ],
   "source": [
    "import cv2\n",
    "from sklearn.metrics import f1_score, confusion_matrix\n",
    "import seaborn as sns\n",
    "import matplotlib.pyplot as plt\n",
    "from keras.models import load_model\n",
    "# Load the pre-trained model\n",
    "model_path = r'C:\\Users\\Acer\\Desktop\\Minor Project\\Model_v2.h5'\n",
    "model = load_model(model_path)\n",
    "model.summary()\n",
    "# Set the path to your test dataset\n",
    "test_data_dir = r'C:\\Users\\Acer\\Desktop\\Minor Project\\Split\\test'\n",
    "\n",
    "# Data Preprocessing for testing set\n",
    "test_datagen = ImageDataGenerator(rescale=1./255,)\n",
    "\n",
    "test_generator = test_datagen.flow_from_directory(\n",
    "    test_data_dir,\n",
    "    target_size=(img_size,img_size),\n",
    "    batch_size=batch_size,\n",
    "    class_mode='categorical',\n",
    "    shuffle=False\n",
    ")  # Ensure labels are in the same order as predictions\n",
    "\n",
    "# Get true labels\n",
    "true_labels = test_generator.classes\n",
    "\n",
    "# Make predictions\n",
    "predictions = model.predict(test_generator)\n",
    "\n",
    "# Get predicted labels\n",
    "predicted_labels = np.argmax(predictions, axis=1)\n",
    "\n",
    "# Calculate F1 score\n",
    "f1 = f1_score(true_labels, predicted_labels, average='weighted')\n",
    "\n",
    "# Calculate Confusion Matrix\n",
    "conf_matrix = confusion_matrix(true_labels, predicted_labels)\n",
    "\n",
    "# Display F1 score\n",
    "print(f\"F1 Score: {f1:.4f}\")\n",
    "\n",
    "# Display Confusion Matrix with rotated x-axis labels\n",
    "plt.figure(figsize=(8, 6))\n",
    "sns.heatmap(conf_matrix, annot=True, fmt='d', cmap='Blues', xticklabels=test_generator.class_indices, yticklabels=test_generator.class_indices, cbar=True)\n",
    "plt.title('Confusion Matrix')\n",
    "plt.xlabel('Predicted Labels')\n",
    "plt.ylabel('True Labels')\n",
    "plt.xticks(rotation=45, ha=\"right\")  # Rotate x-axis labels\n",
    "plt.show()\n"
   ]
  }
 ],
 "metadata": {
  "kernelspec": {
   "display_name": ".venv",
   "language": "python",
   "name": "python3"
  },
  "language_info": {
   "codemirror_mode": {
    "name": "ipython",
    "version": 3
   },
   "file_extension": ".py",
   "mimetype": "text/x-python",
   "name": "python",
   "nbconvert_exporter": "python",
   "pygments_lexer": "ipython3",
   "version": "3.10.11"
  }
 },
 "nbformat": 4,
 "nbformat_minor": 2
}
