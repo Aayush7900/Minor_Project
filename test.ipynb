{
 "cells": [
  {
   "cell_type": "code",
   "execution_count": null,
   "metadata": {},
   "outputs": [],
   "source": [
    "# Load an example image (replace 'your_image_path' with the actual image path)\n",
    "image_path = r'C:\\Users\\Acer\\Desktop\\Minor Project\\Augmented Dataset\\Chaar Narayan Temple\\East\\augmented_0_IMG_20231224_080035.jpg'\n",
    "img = cv2.imread(image_path)\n",
    "\n",
    "# Display the original image's pixel values\n",
    "print(\"Original Image Pixel Values:\")\n",
    "print(img)\n",
    "\n",
    "# Normalize the image by dividing by 255\n",
    "img_normalized = img / 255.0\n",
    "\n",
    "# Display the normalized image's pixel values\n",
    "print(\"\\nNormalized Image Pixel Values:\")\n",
    "print(img_normalized)"
   ]
  },
  {
   "cell_type": "code",
   "execution_count": null,
   "metadata": {},
   "outputs": [],
   "source": [
    "#return augmented list\n",
    "def preprocess_data(image_path, label):\n",
    "    img = cv2.imread(image_path)\n",
    "    img = cv2.cvtColor(img, cv2.COLOR_BGR2RGB)\n",
    "    img = cv2.resize(img, (512, 512))\n",
    "    \n",
    "    datagen = ImageDataGenerator(\n",
    "        rescale=1./255,\n",
    "        rotation_range=20,\n",
    "        shear_range=0.2,\n",
    "        zoom_range=0.2,\n",
    "        horizontal_flip=True,\n",
    "    )\n",
    "    \n",
    "    augmented_images = []\n",
    "    \n",
    "    # Include the original image\n",
    "    augmented_images.append((img, label))\n",
    "    \n",
    "    for i in range (0,5):\n",
    "        params = datagen.get_random_transform(img.shape)\n",
    "        augmented_img = datagen.apply_transform(img, params)\n",
    "        augmented_img = np.clip(augmented_img, 0, 255).astype(np.uint8)\n",
    "        \n",
    "        augmented_images.append((augmented_img, label))\n",
    "        \n",
    "    return augmented_images\n",
    "\n",
    "#Augmenting a single image\n",
    "augmented_images = [preprocess_data(os.path.join('Dataset\\Chaar Narayan Temple\\East', img), 1.01) for img in os.listdir('Dataset\\Chaar Narayan Temple\\East')]\n",
    "\n",
    "#show augmented list\n",
    "def show_images(images):\n",
    "    fig, axes = plt.subplots(1, len(images), figsize=(15, 5))\n",
    "\n",
    "    for i, (img, label) in enumerate(images):\n",
    "        axes[i].imshow(img)\n",
    "        axes[i].set_title(f'Label: {label}')\n",
    "        axes[i].axis('off')\n",
    "\n",
    "    plt.show()\n",
    "\n",
    "# Display augmented images from the directory\n",
    "for images in augmented_images:\n",
    "    show_images(images)\n"
   ]
  },
  {
   "cell_type": "code",
   "execution_count": 1,
   "metadata": {},
   "outputs": [
    {
     "ename": "IndentationError",
     "evalue": "expected an indented block after 'for' statement on line 11 (3030037488.py, line 12)",
     "output_type": "error",
     "traceback": [
      "\u001b[1;36m  Cell \u001b[1;32mIn[1], line 12\u001b[1;36m\u001b[0m\n\u001b[1;33m    for side in sides:\u001b[0m\n\u001b[1;37m    ^\u001b[0m\n\u001b[1;31mIndentationError\u001b[0m\u001b[1;31m:\u001b[0m expected an indented block after 'for' statement on line 11\n"
     ]
    }
   ],
   "source": [
    "import os\n",
    "# separating training validation and test\n",
    "#navigating through directories\n",
    "names = ['Chaar Narayan Temple', 'Chyasin Dega','Krishna Mandir', 'Shree Bhimsen Temple', 'Vishwanath Temple']\n",
    "sides = ['East','West','North','South']\n",
    "directory = 'Dataset After Split'\n",
    "save_directory = ['train','test','val']\n",
    "for name in names:\n",
    "    save_base_dir = os.path.join(save_directory,name)\n",
    "    for dir in save_directory:\n",
    "        \n",
    "        for side in sides:\n",
    "            os.makedirs(os.path.join(augmented_base_dir,side), exist_ok=True)\n",
    "            path=os.path.join(directory,name,side)\n",
    "            save_path=os.path.join(save_directory,name,side)\n"
   ]
  },
  {
   "cell_type": "code",
   "execution_count": null,
   "metadata": {},
   "outputs": [],
   "source": []
  }
 ],
 "metadata": {
  "kernelspec": {
   "display_name": "Python 3",
   "language": "python",
   "name": "python3"
  },
  "language_info": {
   "codemirror_mode": {
    "name": "ipython",
    "version": 3
   },
   "file_extension": ".py",
   "mimetype": "text/x-python",
   "name": "python",
   "nbconvert_exporter": "python",
   "pygments_lexer": "ipython3",
   "version": "3.11.4"
  }
 },
 "nbformat": 4,
 "nbformat_minor": 2
}
