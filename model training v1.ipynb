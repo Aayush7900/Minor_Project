{
 "cells": [
  {
   "cell_type": "code",
   "execution_count": 22,
   "metadata": {},
   "outputs": [],
   "source": [
    "import tensorflow as tf\n",
    "import cv2\n",
    "import numpy as np\n",
    "import os\n",
    "import matplotlib.pyplot as plt\n",
    "from keras.preprocessing.image import ImageDataGenerator"
   ]
  },
  {
   "cell_type": "code",
   "execution_count": 23,
   "metadata": {},
   "outputs": [],
   "source": [
    "train_data_dir=r\"C:\\Users\\Acer\\Desktop\\Minor Project\\Split\\train\"\n",
    "img_size=64\n",
    "batch_size=64"
   ]
  },
  {
   "cell_type": "code",
   "execution_count": 24,
   "metadata": {},
   "outputs": [
    {
     "name": "stdout",
     "output_type": "stream",
     "text": [
      "1 Physical GPUs, 1 Logical GPUs\n"
     ]
    }
   ],
   "source": [
    "gpus = tf.config.list_physical_devices('GPU')\n",
    "if gpus:\n",
    "  try:\n",
    "    # Currently, memory growth needs to be the same across GPUs\n",
    "    for gpu in gpus:\n",
    "      tf.config.experimental.set_memory_growth(gpu, True)\n",
    "    logical_gpus = tf.config.list_logical_devices('GPU')\n",
    "    print(len(gpus), \"Physical GPUs,\", len(logical_gpus), \"Logical GPUs\")\n",
    "  except RuntimeError as e:\n",
    "    # Memory growth must be set before GPUs have been initialized\n",
    "    print(e)"
   ]
  },
  {
   "cell_type": "code",
   "execution_count": 25,
   "metadata": {},
   "outputs": [],
   "source": [
    "from keras.utils import Sequence\n",
    "from keras.layers import Conv2D, DepthwiseConv2D, SeparableConv2D\n",
    "from keras.layers import BatchNormalization, ReLU, GlobalAveragePooling2D\n",
    "from keras.models import Model\n",
    "from keras.layers import Dense"
   ]
  },
  {
   "cell_type": "code",
   "execution_count": 26,
   "metadata": {},
   "outputs": [],
   "source": [
    "#Applying Grayscale\n",
    "def custom_preprocessing1(image):\n",
    "    image = cv2.resize(image, (img_size, img_size))\n",
    "    # Convert the RGB image to grayscale\n",
    "    grayscale_image = cv2.cvtColor(image, cv2.COLOR_RGB2GRAY)\n",
    "    \n",
    "    # Expand dimensions to make it compatible with the model's input shape\n",
    "    grayscale_image = np.expand_dims(grayscale_image, axis=-1)\n",
    "    \n",
    "    return grayscale_image.astype('float32')"
   ]
  },
  {
   "cell_type": "code",
   "execution_count": 27,
   "metadata": {},
   "outputs": [],
   "source": [
    "#Applying Shading\n",
    "def custom_preprocessing2(image):\n",
    "    image = cv2.resize(image, (img_size, img_size))\n",
    "    gamma=3\n",
    "    shaded_image = np.clip(np.power(image / 255.0, gamma) * 255.0, 0, 255).astype('uint8')\n",
    "    \n",
    "    return shaded_image.astype('float32')"
   ]
  },
  {
   "cell_type": "code",
   "execution_count": 28,
   "metadata": {},
   "outputs": [],
   "source": [
    "#Applying Noise\n",
    "def custom_preprocessing3(image):\n",
    "    image = cv2.resize(image, (img_size, img_size))\n",
    "    noise_intensity=25\n",
    "    # Generate Gaussian noise\n",
    "    noise = np.random.normal(0, noise_intensity, image.shape)\n",
    "\n",
    "    # Add noise to the original image\n",
    "    noisy_image = np.clip(image + noise, 0, 255).astype('uint8')\n",
    "\n",
    "    return noisy_image.astype('float32')"
   ]
  },
  {
   "cell_type": "code",
   "execution_count": 29,
   "metadata": {},
   "outputs": [],
   "source": [
    "def custom_preprocessing4(image):\n",
    "    image = cv2.resize(image, (img_size, img_size))\n",
    "    return image.astype('float32')"
   ]
  },
  {
   "cell_type": "code",
   "execution_count": 30,
   "metadata": {},
   "outputs": [],
   "source": [
    "class ConcatenateGenerators(Sequence):\n",
    "    def __init__(self, generators):\n",
    "        self.generators = generators\n",
    "        self.lengths = [len(gen) for gen in generators]\n",
    "        self.cumulative_lengths = np.cumsum(self.lengths)\n",
    "\n",
    "    def __len__(self):\n",
    "        return self.cumulative_lengths[-1]\n",
    "\n",
    "    def __getitem__(self, index):\n",
    "        generator_index = np.argmax(index < self.cumulative_lengths)\n",
    "        if generator_index > 0:\n",
    "            sample_index = index - self.cumulative_lengths[generator_index - 1]\n",
    "        else:\n",
    "            sample_index = index\n",
    "\n",
    "        # Get the data and labels from the corresponding generator\n",
    "        data, labels = self.generators[generator_index][sample_index]\n",
    "        return data, labels"
   ]
  },
  {
   "cell_type": "code",
   "execution_count": 31,
   "metadata": {},
   "outputs": [
    {
     "name": "stdout",
     "output_type": "stream",
     "text": [
      "Found 8400 images belonging to 5 classes.\n"
     ]
    }
   ],
   "source": [
    "train_datagen1 = ImageDataGenerator(\n",
    "    rescale=1.0 / 255,\n",
    "    preprocessing_function=custom_preprocessing1\n",
    ")\n",
    "\n",
    "# DirectoryIterator for the dataset\n",
    "train_generator1 = train_datagen1.flow_from_directory(\n",
    "    train_data_dir,\n",
    "    target_size=(img_size, img_size),\n",
    "    batch_size=batch_size,\n",
    "    class_mode='categorical'\n",
    ")"
   ]
  },
  {
   "cell_type": "code",
   "execution_count": 32,
   "metadata": {},
   "outputs": [
    {
     "name": "stdout",
     "output_type": "stream",
     "text": [
      "Found 8400 images belonging to 5 classes.\n"
     ]
    }
   ],
   "source": [
    "train_datagen2 = ImageDataGenerator(\n",
    "    rescale=1.0 / 255,\n",
    "    preprocessing_function=custom_preprocessing2\n",
    ")\n",
    "\n",
    "train_generator2 = train_datagen2.flow_from_directory(\n",
    "    train_data_dir,\n",
    "    target_size=(img_size, img_size),\n",
    "    batch_size=batch_size,\n",
    "    class_mode='categorical'\n",
    ")"
   ]
  },
  {
   "cell_type": "code",
   "execution_count": 33,
   "metadata": {},
   "outputs": [
    {
     "name": "stdout",
     "output_type": "stream",
     "text": [
      "Found 8400 images belonging to 5 classes.\n"
     ]
    }
   ],
   "source": [
    "train_datagen3 = ImageDataGenerator(\n",
    "    rescale=1.0 / 255,    \n",
    "    preprocessing_function=custom_preprocessing3\n",
    ")\n",
    "\n",
    "train_generator3 = train_datagen3.flow_from_directory(\n",
    "    train_data_dir,\n",
    "    target_size=(img_size, img_size),\n",
    "    batch_size=batch_size,\n",
    "    class_mode='categorical'\n",
    ")"
   ]
  },
  {
   "cell_type": "code",
   "execution_count": 34,
   "metadata": {},
   "outputs": [
    {
     "name": "stdout",
     "output_type": "stream",
     "text": [
      "Found 8400 images belonging to 5 classes.\n"
     ]
    }
   ],
   "source": [
    "train_datagen4 = ImageDataGenerator(\n",
    "    rescale=1.0 / 255,    \n",
    "    preprocessing_function=custom_preprocessing4\n",
    ")\n",
    "\n",
    "train_generator4 = train_datagen4.flow_from_directory(\n",
    "    train_data_dir,\n",
    "    target_size=(img_size, img_size),\n",
    "    batch_size=batch_size,\n",
    "    class_mode='categorical'\n",
    ")"
   ]
  },
  {
   "cell_type": "code",
   "execution_count": 35,
   "metadata": {},
   "outputs": [],
   "source": [
    "combined_generator = ConcatenateGenerators([train_generator1, train_generator2, train_generator3, train_generator4])"
   ]
  },
  {
   "cell_type": "code",
   "execution_count": 36,
   "metadata": {},
   "outputs": [],
   "source": [
    "os.environ[\"CUDA_VISIBLE_DEVICES\"] = \"1\" \n",
    "gpus = tf.config.experimental.list_physical_devices('GPU')\n",
    "if gpus:\n",
    "   for gpu in gpus:\n",
    "        tf.config.experimental.set_memory_growth(gpu, True)"
   ]
  },
  {
   "cell_type": "code",
   "execution_count": 37,
   "metadata": {},
   "outputs": [],
   "source": [
    "# Initialising the CNN\n",
    "model = tf.keras.models.Sequential()\n",
    "\n",
    "# Step 1 - Convolution\n",
    "model.add(tf.keras.layers.Conv2D(filters=32, kernel_size=3, activation='relu', input_shape=[64, 64, 3]))\n",
    "# model.add(tf.keras.layers.BatchNormalization())\n",
    "\n",
    "# Step 2 - Pooling\n",
    "model.add(tf.keras.layers.MaxPool2D(pool_size=2, strides=2))\n",
    "# model.add(tf.keras.layers.BatchNormalization())\n",
    "\n",
    "# Adding a second convolutional layer\n",
    "model.add(tf.keras.layers.Conv2D(filters=32, kernel_size=3, activation='relu'))\n",
    "model.add(tf.keras.layers.MaxPool2D(pool_size=2, strides=2))\n",
    "# model.add(tf.keras.layers.BatchNormalization())\n",
    "\n",
    "# Step 3 - Flattening\n",
    "model.add(tf.keras.layers.Flatten())\n",
    "# model.add(tf.keras.layers.BatchNormalization())\n",
    "\n",
    "# Step 4 - Full Connection\n",
    "model.add(tf.keras.layers.Dense(units=128, activation='relu'))\n",
    "# model.add(tf.keras.layers.BatchNormalization())\n",
    "\n",
    "# Step 5 - Output Layer\n",
    "model.add(tf.keras.layers.Dense(units=5, activation='softmax'))\n"
   ]
  },
  {
   "cell_type": "code",
   "execution_count": 38,
   "metadata": {},
   "outputs": [],
   "source": [
    "# lr_schedule = tf.keras.optimizers.schedules.ExponentialDecay(\n",
    "#                 initial_learning_rate = 1e-3,\n",
    "#                 decay_steps = 10000,\n",
    "#                 decay_rate = 0.9)\n",
    "optimizer = tf.keras.optimizers.Adam(learning_rate = 0.001)\n",
    "model.compile(optimizer=optimizer, loss='categorical_crossentropy', metrics=['accuracy'])\n"
   ]
  },
  {
   "cell_type": "code",
   "execution_count": 39,
   "metadata": {},
   "outputs": [
    {
     "name": "stdout",
     "output_type": "stream",
     "text": [
      "Found 1200 images belonging to 5 classes.\n"
     ]
    }
   ],
   "source": [
    "test_data_dir=r\"C:\\Users\\Acer\\Desktop\\Minor Project\\Split\\test\"\n",
    "test_datagen = ImageDataGenerator(rescale = 1.0/255)\n",
    "\n",
    "test_generator = test_datagen.flow_from_directory(test_data_dir,\n",
    "                                                  target_size=(img_size, img_size),\n",
    "                                                  batch_size=batch_size,\n",
    "                                                  class_mode='categorical')"
   ]
  },
  {
   "cell_type": "code",
   "execution_count": 40,
   "metadata": {},
   "outputs": [
    {
     "name": "stdout",
     "output_type": "stream",
     "text": [
      "Num GPUs Available:  1\n"
     ]
    }
   ],
   "source": [
    "print(\"Num GPUs Available: \", len(tf.config.list_physical_devices('GPU')))"
   ]
  },
  {
   "cell_type": "code",
   "execution_count": 41,
   "metadata": {},
   "outputs": [
    {
     "name": "stdout",
     "output_type": "stream",
     "text": [
      "Epoch 1/50\n",
      "528/528 [==============================] - 115s 215ms/step - loss: 0.4933 - accuracy: 0.8158 - val_loss: 0.1834 - val_accuracy: 0.9442\n",
      "Epoch 2/50\n",
      "528/528 [==============================] - 103s 194ms/step - loss: 0.1144 - accuracy: 0.9629 - val_loss: 0.1142 - val_accuracy: 0.9683\n",
      "Epoch 3/50\n",
      "528/528 [==============================] - 106s 200ms/step - loss: 0.0427 - accuracy: 0.9869 - val_loss: 0.1108 - val_accuracy: 0.9683\n",
      "Epoch 4/50\n",
      "528/528 [==============================] - 103s 195ms/step - loss: 0.0195 - accuracy: 0.9941 - val_loss: 0.1173 - val_accuracy: 0.9717\n",
      "Epoch 5/50\n",
      "528/528 [==============================] - 102s 192ms/step - loss: 0.0118 - accuracy: 0.9966 - val_loss: 0.1183 - val_accuracy: 0.9650\n",
      "Epoch 6/50\n",
      "528/528 [==============================] - 134s 253ms/step - loss: 0.0100 - accuracy: 0.9971 - val_loss: 0.1136 - val_accuracy: 0.9742\n",
      "Epoch 7/50\n",
      "528/528 [==============================] - 134s 254ms/step - loss: 0.0185 - accuracy: 0.9936 - val_loss: 0.1066 - val_accuracy: 0.9758\n",
      "Epoch 8/50\n",
      "528/528 [==============================] - 132s 249ms/step - loss: 0.0042 - accuracy: 0.9990 - val_loss: 0.0968 - val_accuracy: 0.9825\n",
      "Epoch 9/50\n",
      "528/528 [==============================] - 145s 274ms/step - loss: 0.0040 - accuracy: 0.9987 - val_loss: 0.1269 - val_accuracy: 0.9725\n",
      "Epoch 10/50\n",
      "528/528 [==============================] - 119s 225ms/step - loss: 0.0015 - accuracy: 0.9996 - val_loss: 0.1183 - val_accuracy: 0.9775\n",
      "Epoch 11/50\n",
      "528/528 [==============================] - 99s 187ms/step - loss: 0.0277 - accuracy: 0.9906 - val_loss: 0.1615 - val_accuracy: 0.9642\n",
      "Epoch 12/50\n",
      "528/528 [==============================] - 100s 189ms/step - loss: 0.0026 - accuracy: 0.9992 - val_loss: 0.0963 - val_accuracy: 0.9775\n",
      "Epoch 13/50\n",
      "528/528 [==============================] - 96s 181ms/step - loss: 0.0011 - accuracy: 0.9998 - val_loss: 0.0790 - val_accuracy: 0.9867\n",
      "Epoch 14/50\n",
      "528/528 [==============================] - 102s 194ms/step - loss: 1.5512e-04 - accuracy: 1.0000 - val_loss: 0.0765 - val_accuracy: 0.9867\n",
      "Epoch 15/50\n",
      "528/528 [==============================] - 100s 189ms/step - loss: 4.5789e-05 - accuracy: 1.0000 - val_loss: 0.0787 - val_accuracy: 0.9867\n",
      "Epoch 16/50\n",
      "528/528 [==============================] - 98s 186ms/step - loss: 2.9935e-05 - accuracy: 1.0000 - val_loss: 0.0763 - val_accuracy: 0.9867\n",
      "Epoch 17/50\n",
      "528/528 [==============================] - 92s 174ms/step - loss: 1.7946e-05 - accuracy: 1.0000 - val_loss: 0.0780 - val_accuracy: 0.9867\n",
      "Epoch 18/50\n",
      "528/528 [==============================] - 94s 178ms/step - loss: 1.2617e-05 - accuracy: 1.0000 - val_loss: 0.0771 - val_accuracy: 0.9875\n",
      "Epoch 19/50\n",
      "528/528 [==============================] - 98s 185ms/step - loss: 9.3824e-06 - accuracy: 1.0000 - val_loss: 0.0770 - val_accuracy: 0.9875\n",
      "Epoch 20/50\n",
      "528/528 [==============================] - 94s 178ms/step - loss: 0.0470 - accuracy: 0.9866 - val_loss: 0.1071 - val_accuracy: 0.9767\n",
      "Epoch 21/50\n",
      "528/528 [==============================] - 100s 189ms/step - loss: 0.0024 - accuracy: 0.9995 - val_loss: 0.0699 - val_accuracy: 0.9875\n",
      "Epoch 22/50\n",
      "528/528 [==============================] - 100s 189ms/step - loss: 2.4508e-04 - accuracy: 1.0000 - val_loss: 0.0706 - val_accuracy: 0.9892\n",
      "Epoch 23/50\n",
      "528/528 [==============================] - 101s 190ms/step - loss: 1.0325e-04 - accuracy: 1.0000 - val_loss: 0.0741 - val_accuracy: 0.9892\n",
      "Epoch 24/50\n",
      "528/528 [==============================] - 100s 189ms/step - loss: 5.7972e-05 - accuracy: 1.0000 - val_loss: 0.0726 - val_accuracy: 0.9883\n",
      "Epoch 25/50\n",
      "528/528 [==============================] - 101s 190ms/step - loss: 4.3246e-04 - accuracy: 0.9999 - val_loss: 0.1067 - val_accuracy: 0.9775\n",
      "Epoch 26/50\n",
      "528/528 [==============================] - 100s 189ms/step - loss: 0.0198 - accuracy: 0.9944 - val_loss: 0.0774 - val_accuracy: 0.9850\n",
      "Epoch 27/50\n",
      "528/528 [==============================] - 100s 190ms/step - loss: 0.0014 - accuracy: 0.9996 - val_loss: 0.0968 - val_accuracy: 0.9842\n",
      "Epoch 28/50\n",
      "528/528 [==============================] - 100s 190ms/step - loss: 3.0026e-04 - accuracy: 1.0000 - val_loss: 0.0767 - val_accuracy: 0.9892\n",
      "Epoch 29/50\n",
      "528/528 [==============================] - 101s 191ms/step - loss: 4.2982e-05 - accuracy: 1.0000 - val_loss: 0.0715 - val_accuracy: 0.9900\n",
      "Epoch 30/50\n",
      "528/528 [==============================] - 101s 192ms/step - loss: 2.4517e-05 - accuracy: 1.0000 - val_loss: 0.0713 - val_accuracy: 0.9900\n",
      "Epoch 31/50\n",
      "528/528 [==============================] - 96s 182ms/step - loss: 1.9100e-05 - accuracy: 1.0000 - val_loss: 0.0728 - val_accuracy: 0.9900\n",
      "Epoch 32/50\n",
      "528/528 [==============================] - 91s 173ms/step - loss: 1.1481e-05 - accuracy: 1.0000 - val_loss: 0.0750 - val_accuracy: 0.9892\n",
      "Epoch 33/50\n",
      "528/528 [==============================] - 91s 173ms/step - loss: 1.0096e-05 - accuracy: 1.0000 - val_loss: 0.0749 - val_accuracy: 0.9908\n",
      "Epoch 34/50\n",
      "528/528 [==============================] - 92s 174ms/step - loss: 0.0222 - accuracy: 0.9936 - val_loss: 0.0790 - val_accuracy: 0.9833\n",
      "Epoch 35/50\n",
      "528/528 [==============================] - 92s 174ms/step - loss: 0.0029 - accuracy: 0.9992 - val_loss: 0.0593 - val_accuracy: 0.9908\n",
      "Epoch 36/50\n",
      "528/528 [==============================] - 92s 173ms/step - loss: 3.3989e-04 - accuracy: 0.9999 - val_loss: 0.0565 - val_accuracy: 0.9917\n",
      "Epoch 37/50\n",
      "528/528 [==============================] - 92s 174ms/step - loss: 8.3984e-05 - accuracy: 1.0000 - val_loss: 0.0672 - val_accuracy: 0.9900\n",
      "Epoch 38/50\n",
      "528/528 [==============================] - 91s 173ms/step - loss: 3.6595e-05 - accuracy: 1.0000 - val_loss: 0.0658 - val_accuracy: 0.9908\n",
      "Epoch 39/50\n",
      "528/528 [==============================] - 92s 173ms/step - loss: 9.3820e-05 - accuracy: 1.0000 - val_loss: 0.0700 - val_accuracy: 0.9900\n",
      "Epoch 40/50\n",
      "528/528 [==============================] - 93s 176ms/step - loss: 1.8285e-05 - accuracy: 1.0000 - val_loss: 0.0710 - val_accuracy: 0.9900\n",
      "Epoch 41/50\n",
      "528/528 [==============================] - 92s 173ms/step - loss: 1.0582e-05 - accuracy: 1.0000 - val_loss: 0.0716 - val_accuracy: 0.9917\n",
      "Epoch 42/50\n",
      "528/528 [==============================] - 92s 174ms/step - loss: 0.0211 - accuracy: 0.9937 - val_loss: 0.0944 - val_accuracy: 0.9833\n",
      "Epoch 43/50\n",
      "528/528 [==============================] - 91s 172ms/step - loss: 0.0015 - accuracy: 0.9996 - val_loss: 0.0861 - val_accuracy: 0.9808\n",
      "Epoch 44/50\n",
      "528/528 [==============================] - 91s 173ms/step - loss: 1.7483e-04 - accuracy: 1.0000 - val_loss: 0.0976 - val_accuracy: 0.9842\n",
      "Epoch 45/50\n",
      "528/528 [==============================] - 92s 174ms/step - loss: 4.2243e-05 - accuracy: 1.0000 - val_loss: 0.0973 - val_accuracy: 0.9850\n",
      "Epoch 46/50\n",
      "528/528 [==============================] - 92s 174ms/step - loss: 2.3164e-05 - accuracy: 1.0000 - val_loss: 0.0987 - val_accuracy: 0.9842\n",
      "Epoch 47/50\n",
      "528/528 [==============================] - 92s 173ms/step - loss: 1.7250e-05 - accuracy: 1.0000 - val_loss: 0.0986 - val_accuracy: 0.9842\n",
      "Epoch 48/50\n",
      "528/528 [==============================] - 91s 173ms/step - loss: 1.3010e-05 - accuracy: 1.0000 - val_loss: 0.1024 - val_accuracy: 0.9850\n",
      "Epoch 49/50\n",
      "528/528 [==============================] - 92s 174ms/step - loss: 8.5623e-06 - accuracy: 1.0000 - val_loss: 0.1020 - val_accuracy: 0.9858\n",
      "Epoch 50/50\n",
      "528/528 [==============================] - 92s 174ms/step - loss: 8.7308e-06 - accuracy: 1.0000 - val_loss: 0.1112 - val_accuracy: 0.9867\n"
     ]
    }
   ],
   "source": [
    "epochs=50\n",
    "history = model.fit(combined_generator, epochs=epochs, validation_data=test_generator)\n"
   ]
  },
  {
   "cell_type": "code",
   "execution_count": 45,
   "metadata": {},
   "outputs": [
    {
     "name": "stdout",
     "output_type": "stream",
     "text": [
      "+---------+------------------+----------------------+-----------------------+---------------------------+\n",
      "|   Epoch |   Train Accuracy | Train Accuracy (%)   |   Validation Accuracy | Validation Accuracy (%)   |\n",
      "+=========+==================+======================+=======================+===========================+\n",
      "|       1 |         0.815804 | 81.58%               |              0.944167 | 94.42%                    |\n",
      "+---------+------------------+----------------------+-----------------------+---------------------------+\n",
      "|       2 |         0.962857 | 96.29%               |              0.968333 | 96.83%                    |\n",
      "+---------+------------------+----------------------+-----------------------+---------------------------+\n",
      "|       3 |         0.986935 | 98.69%               |              0.968333 | 96.83%                    |\n",
      "+---------+------------------+----------------------+-----------------------+---------------------------+\n",
      "|       4 |         0.994137 | 99.41%               |              0.971667 | 97.17%                    |\n",
      "+---------+------------------+----------------------+-----------------------+---------------------------+\n",
      "|       5 |         0.996637 | 99.66%               |              0.965    | 96.50%                    |\n",
      "+---------+------------------+----------------------+-----------------------+---------------------------+\n",
      "|       6 |         0.997143 | 99.71%               |              0.974167 | 97.42%                    |\n",
      "+---------+------------------+----------------------+-----------------------+---------------------------+\n",
      "|       7 |         0.993631 | 99.36%               |              0.975833 | 97.58%                    |\n",
      "+---------+------------------+----------------------+-----------------------+---------------------------+\n",
      "|       8 |         0.999018 | 99.90%               |              0.9825   | 98.25%                    |\n",
      "+---------+------------------+----------------------+-----------------------+---------------------------+\n",
      "|       9 |         0.99875  | 99.87%               |              0.9725   | 97.25%                    |\n",
      "+---------+------------------+----------------------+-----------------------+---------------------------+\n",
      "|      10 |         0.999643 | 99.96%               |              0.9775   | 97.75%                    |\n",
      "+---------+------------------+----------------------+-----------------------+---------------------------+\n",
      "|      11 |         0.990625 | 99.06%               |              0.964167 | 96.42%                    |\n",
      "+---------+------------------+----------------------+-----------------------+---------------------------+\n",
      "|      12 |         0.999226 | 99.92%               |              0.9775   | 97.75%                    |\n",
      "+---------+------------------+----------------------+-----------------------+---------------------------+\n",
      "|      13 |         0.999792 | 99.98%               |              0.986667 | 98.67%                    |\n",
      "+---------+------------------+----------------------+-----------------------+---------------------------+\n",
      "|      14 |         1        | 100.00%              |              0.986667 | 98.67%                    |\n",
      "+---------+------------------+----------------------+-----------------------+---------------------------+\n",
      "|      15 |         1        | 100.00%              |              0.986667 | 98.67%                    |\n",
      "+---------+------------------+----------------------+-----------------------+---------------------------+\n",
      "|      16 |         1        | 100.00%              |              0.986667 | 98.67%                    |\n",
      "+---------+------------------+----------------------+-----------------------+---------------------------+\n",
      "|      17 |         1        | 100.00%              |              0.986667 | 98.67%                    |\n",
      "+---------+------------------+----------------------+-----------------------+---------------------------+\n",
      "|      18 |         1        | 100.00%              |              0.9875   | 98.75%                    |\n",
      "+---------+------------------+----------------------+-----------------------+---------------------------+\n",
      "|      19 |         1        | 100.00%              |              0.9875   | 98.75%                    |\n",
      "+---------+------------------+----------------------+-----------------------+---------------------------+\n",
      "|      20 |         0.986607 | 98.66%               |              0.976667 | 97.67%                    |\n",
      "+---------+------------------+----------------------+-----------------------+---------------------------+\n",
      "|      21 |         0.999464 | 99.95%               |              0.9875   | 98.75%                    |\n",
      "+---------+------------------+----------------------+-----------------------+---------------------------+\n",
      "|      22 |         1        | 100.00%              |              0.989167 | 98.92%                    |\n",
      "+---------+------------------+----------------------+-----------------------+---------------------------+\n",
      "|      23 |         1        | 100.00%              |              0.989167 | 98.92%                    |\n",
      "+---------+------------------+----------------------+-----------------------+---------------------------+\n",
      "|      24 |         1        | 100.00%              |              0.988333 | 98.83%                    |\n",
      "+---------+------------------+----------------------+-----------------------+---------------------------+\n",
      "|      25 |         0.999911 | 99.99%               |              0.9775   | 97.75%                    |\n",
      "+---------+------------------+----------------------+-----------------------+---------------------------+\n",
      "|      26 |         0.994375 | 99.44%               |              0.985    | 98.50%                    |\n",
      "+---------+------------------+----------------------+-----------------------+---------------------------+\n",
      "|      27 |         0.999583 | 99.96%               |              0.984167 | 98.42%                    |\n",
      "+---------+------------------+----------------------+-----------------------+---------------------------+\n",
      "|      28 |         0.99997  | 100.00%              |              0.989167 | 98.92%                    |\n",
      "+---------+------------------+----------------------+-----------------------+---------------------------+\n",
      "|      29 |         1        | 100.00%              |              0.99     | 99.00%                    |\n",
      "+---------+------------------+----------------------+-----------------------+---------------------------+\n",
      "|      30 |         1        | 100.00%              |              0.99     | 99.00%                    |\n",
      "+---------+------------------+----------------------+-----------------------+---------------------------+\n",
      "|      31 |         1        | 100.00%              |              0.99     | 99.00%                    |\n",
      "+---------+------------------+----------------------+-----------------------+---------------------------+\n",
      "|      32 |         1        | 100.00%              |              0.989167 | 98.92%                    |\n",
      "+---------+------------------+----------------------+-----------------------+---------------------------+\n",
      "|      33 |         1        | 100.00%              |              0.990833 | 99.08%                    |\n",
      "+---------+------------------+----------------------+-----------------------+---------------------------+\n",
      "|      34 |         0.993601 | 99.36%               |              0.983333 | 98.33%                    |\n",
      "+---------+------------------+----------------------+-----------------------+---------------------------+\n",
      "|      35 |         0.999226 | 99.92%               |              0.990833 | 99.08%                    |\n",
      "+---------+------------------+----------------------+-----------------------+---------------------------+\n",
      "|      36 |         0.99994  | 99.99%               |              0.991667 | 99.17%                    |\n",
      "+---------+------------------+----------------------+-----------------------+---------------------------+\n",
      "|      37 |         1        | 100.00%              |              0.99     | 99.00%                    |\n",
      "+---------+------------------+----------------------+-----------------------+---------------------------+\n",
      "|      38 |         1        | 100.00%              |              0.990833 | 99.08%                    |\n",
      "+---------+------------------+----------------------+-----------------------+---------------------------+\n",
      "|      39 |         1        | 100.00%              |              0.99     | 99.00%                    |\n",
      "+---------+------------------+----------------------+-----------------------+---------------------------+\n",
      "|      40 |         1        | 100.00%              |              0.99     | 99.00%                    |\n",
      "+---------+------------------+----------------------+-----------------------+---------------------------+\n",
      "|      41 |         1        | 100.00%              |              0.991667 | 99.17%                    |\n",
      "+---------+------------------+----------------------+-----------------------+---------------------------+\n",
      "|      42 |         0.99372  | 99.37%               |              0.983333 | 98.33%                    |\n",
      "+---------+------------------+----------------------+-----------------------+---------------------------+\n",
      "|      43 |         0.999643 | 99.96%               |              0.980833 | 98.08%                    |\n",
      "+---------+------------------+----------------------+-----------------------+---------------------------+\n",
      "|      44 |         1        | 100.00%              |              0.984167 | 98.42%                    |\n",
      "+---------+------------------+----------------------+-----------------------+---------------------------+\n",
      "|      45 |         1        | 100.00%              |              0.985    | 98.50%                    |\n",
      "+---------+------------------+----------------------+-----------------------+---------------------------+\n",
      "|      46 |         1        | 100.00%              |              0.984167 | 98.42%                    |\n",
      "+---------+------------------+----------------------+-----------------------+---------------------------+\n",
      "|      47 |         1        | 100.00%              |              0.984167 | 98.42%                    |\n",
      "+---------+------------------+----------------------+-----------------------+---------------------------+\n",
      "|      48 |         1        | 100.00%              |              0.985    | 98.50%                    |\n",
      "+---------+------------------+----------------------+-----------------------+---------------------------+\n",
      "|      49 |         1        | 100.00%              |              0.985833 | 98.58%                    |\n",
      "+---------+------------------+----------------------+-----------------------+---------------------------+\n",
      "|      50 |         1        | 100.00%              |              0.986667 | 98.67%                    |\n",
      "+---------+------------------+----------------------+-----------------------+---------------------------+\n"
     ]
    }
   ],
   "source": [
    "from tabulate import tabulate\n",
    "\n",
    "train_accuracy = history.history['accuracy']\n",
    "val_accuracy = history.history['val_accuracy']\n",
    "\n",
    "table_data = [(epoch + 1, train_acc,f\"{train_acc * 100:.2f}%\", val_acc, f\"{val_acc * 100:.2f}%\") for epoch, (train_acc, val_acc) in enumerate(zip(train_accuracy, val_accuracy))]\n",
    "\n",
    "headers = ['Epoch', 'Train Accuracy', 'Train Accuracy (%)', 'Validation Accuracy', 'Validation Accuracy (%)']\n",
    "\n",
    "print(tabulate(table_data, headers=headers, tablefmt='grid'))"
   ]
  },
  {
   "cell_type": "code",
   "execution_count": 1,
   "metadata": {},
   "outputs": [
    {
     "ename": "NameError",
     "evalue": "name 'plt' is not defined",
     "output_type": "error",
     "traceback": [
      "\u001b[1;31m---------------------------------------------------------------------------\u001b[0m",
      "\u001b[1;31mNameError\u001b[0m                                 Traceback (most recent call last)",
      "Cell \u001b[1;32mIn[1], line 2\u001b[0m\n\u001b[0;32m      1\u001b[0m \u001b[38;5;66;03m# Plot training & validation accuracy values\u001b[39;00m\n\u001b[1;32m----> 2\u001b[0m \u001b[43mplt\u001b[49m\u001b[38;5;241m.\u001b[39mfigure(figsize\u001b[38;5;241m=\u001b[39m(\u001b[38;5;241m12\u001b[39m, \u001b[38;5;241m6\u001b[39m))\n\u001b[0;32m      3\u001b[0m plt\u001b[38;5;241m.\u001b[39msubplot(\u001b[38;5;241m1\u001b[39m, \u001b[38;5;241m2\u001b[39m, \u001b[38;5;241m1\u001b[39m)\n\u001b[0;32m      4\u001b[0m plt\u001b[38;5;241m.\u001b[39mplot(history\u001b[38;5;241m.\u001b[39mhistory[\u001b[38;5;124m'\u001b[39m\u001b[38;5;124maccuracy\u001b[39m\u001b[38;5;124m'\u001b[39m], label\u001b[38;5;241m=\u001b[39m\u001b[38;5;124m'\u001b[39m\u001b[38;5;124mTraining Accuracy\u001b[39m\u001b[38;5;124m'\u001b[39m)\n",
      "\u001b[1;31mNameError\u001b[0m: name 'plt' is not defined"
     ]
    }
   ],
   "source": [
    "# Plot training & validation accuracy values\n",
    "plt.figure(figsize=(12, 6))\n",
    "plt.subplot(1, 2, 1)\n",
    "plt.plot(history.history['accuracy'], label='Training Accuracy')\n",
    "plt.plot(history.history['val_accuracy'], label='Validation Accuracy')\n",
    "plt.title('Model Accuracy')\n",
    "plt.xlabel('Epoch')\n",
    "plt.ylabel('Accuracy')\n",
    "plt.legend()\n",
    "plt.ylim(0.0,1.0)\n",
    "# Plot training & validation loss values\n",
    "plt.subplot(1, 2, 2)\n",
    "plt.plot(history.history['loss'], label='Training Loss')\n",
    "plt.plot(history.history['val_loss'], label='Validation Loss')\n",
    "plt.title('Model Loss')\n",
    "plt.xlabel('Epoch')\n",
    "plt.ylabel('Loss')\n",
    "plt.legend()\n",
    "plt.ylim(0.0,1.0)\n",
    "# Show the plots\n",
    "plt.tight_layout()\n",
    "plt.show()\n",
    "\n",
    "model.save(r'C:\\Users\\Acer\\Desktop\\Minor Project\\mlTrain_gpu-V3.h5')"
   ]
  },
  {
   "cell_type": "code",
   "execution_count": 48,
   "metadata": {},
   "outputs": [
    {
     "name": "stdout",
     "output_type": "stream",
     "text": [
      "Found 2000 images belonging to 5 classes.\n",
      "63/63 [==============================] - 238s 4s/step\n",
      "F1 Score: 0.9965\n"
     ]
    },
    {
     "data": {
      "image/png": "[encoded data removed]",
      "text/plain": [
       "<Figure size 800x600 with 2 Axes>"
      ]
     },
     "metadata": {},
     "output_type": "display_data"
    }
   ],
   "source": [
    "import cv2\n",
    "from sklearn.metrics import f1_score, confusion_matrix\n",
    "import seaborn as sns\n",
    "import matplotlib.pyplot as plt\n",
    "from keras.models import load_model\n",
    "\n",
    "#Applying Grayscale\n",
    "def custom_preprocessing5(image):\n",
    "    image = cv2.resize(image, (img_size, img_size))\n",
    "    \n",
    "    return image.astype('float32')\n",
    "\n",
    "# Load the pre-trained model\n",
    "model_path = r'C:\\Users\\Acer\\Desktop\\Minor Project\\mlTrain_gpu-V3.h5'\n",
    "model = load_model(model_path)\n",
    "\n",
    "# Set the path to your test dataset\n",
    "test_data_dir = r'C:\\Users\\Acer\\Desktop\\Minor Project\\Dataset'\n",
    "img_width, img_height = 64, 64 \n",
    "batch_size = 32\n",
    "\n",
    "# Data Preprocessing for testing set\n",
    "test_datagen = ImageDataGenerator(rescale=1./255,preprocessing_function=custom_preprocessing5)\n",
    "\n",
    "test_generator = test_datagen.flow_from_directory(test_data_dir,\n",
    "                                                  target_size=(img_width, img_height),\n",
    "                                                  batch_size=batch_size,\n",
    "                                                  class_mode='categorical',\n",
    "                                                  shuffle=False)  # Ensure labels are in the same order as predictions\n",
    "\n",
    "# Get true labels\n",
    "true_labels = test_generator.classes\n",
    "\n",
    "# Make predictions\n",
    "predictions = model.predict(test_generator)\n",
    "\n",
    "# Get predicted labels\n",
    "predicted_labels = np.argmax(predictions, axis=1)\n",
    "\n",
    "# Calculate F1 score\n",
    "f1 = f1_score(true_labels, predicted_labels, average='weighted')\n",
    "\n",
    "# Calculate Confusion Matrix\n",
    "conf_matrix = confusion_matrix(true_labels, predicted_labels)\n",
    "\n",
    "# Display F1 score\n",
    "print(f\"F1 Score: {f1:.4f}\")\n",
    "\n",
    "# Display Confusion Matrix with rotated x-axis labels\n",
    "plt.figure(figsize=(8, 6))\n",
    "sns.heatmap(conf_matrix, annot=True, fmt='d', cmap='Blues', xticklabels=test_generator.class_indices, yticklabels=test_generator.class_indices, cbar=True)\n",
    "plt.title('Confusion Matrix')\n",
    "plt.xlabel('Predicted Labels')\n",
    "plt.ylabel('True Labels')\n",
    "plt.xticks(rotation=45, ha=\"right\")  # Rotate x-axis labels\n",
    "plt.show()\n"
   ]
  }
 ],
 "metadata": {
  "kernelspec": {
   "display_name": "Python 3",
   "language": "python",
   "name": "python3"
  },
  "language_info": {
   "codemirror_mode": {
    "name": "ipython",
    "version": 3
   },
   "file_extension": ".py",
   "mimetype": "text/x-python",
   "name": "python",
   "nbconvert_exporter": "python",
   "pygments_lexer": "ipython3",
   "version": "3.10.11"
  }
 },
 "nbformat": 4,
 "nbformat_minor": 2
}
