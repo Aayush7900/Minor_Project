{
 "cells": [
  {
   "cell_type": "code",
   "execution_count": 2,
   "metadata": {},
   "outputs": [],
   "source": [
    "import tensorflow as tf\n",
    "import splitfolders\n",
    "import cv2\n",
    "import numpy as np\n",
    "import os\n",
    "import matplotlib.pyplot as plt\n",
    "from keras.preprocessing.image import ImageDataGenerator\n",
    "from sklearn.model_selection import train_test_split"
   ]
  },
  {
   "cell_type": "code",
   "execution_count": null,
   "metadata": {},
   "outputs": [],
   "source": [
    "#return augmented list\n",
    "def preprocess_data(image_path, label):\n",
    "    img = cv2.imread(image_path)\n",
    "    img = cv2.cvtColor(img, cv2.COLOR_BGR2RGB)\n",
    "    img = cv2.resize(img, (512, 512))\n",
    "    \n",
    "    datagen = ImageDataGenerator(\n",
    "        rescale=1./255,\n",
    "        rotation_range=20,\n",
    "        width_shift_range=0.2,\n",
    "        height_shift_range=0.2,\n",
    "        shear_range=0.2,\n",
    "        zoom_range=0.2,\n",
    "        horizontal_flip=True,\n",
    "    )\n",
    "    \n",
    "    augmented_images = []\n",
    "    \n",
    "    # Include the original image\n",
    "    augmented_images.append((img, label))\n",
    "    \n",
    "    for i in range (0,5):\n",
    "        params = datagen.get_random_transform(img.shape)\n",
    "        augmented_img = datagen.apply_transform(img, params)\n",
    "        augmented_img = np.clip(augmented_img, 0, 255).astype(np.uint8)\n",
    "        \n",
    "        augmented_images.append((augmented_img, label))\n",
    "        \n",
    "    return augmented_images\n",
    "\n",
    "#Augmenting a single image\n",
    "augmented_images = [preprocess_data('Aayush\\Chaar Narayan Temple\\East\\IMG_20231224_080035.jpg', 1.1)]\n",
    "\n",
    "#show augmented list\n",
    "def show_images(images):\n",
    "    fig, axes = plt.subplots(1, len(images), figsize=(15, 5))\n",
    "\n",
    "    for i, (img, label) in enumerate(images):\n",
    "        axes[i].imshow(img)\n",
    "        axes[i].set_title(f'Label: {label}')\n",
    "        axes[i].axis('off')\n",
    "\n",
    "    plt.show()\n",
    "\n",
    "# Display augmented images from the directory\n",
    "for images in augmented_images:\n",
    "    show_images(images)\n",
    "\n"
   ]
  },
  {
   "cell_type": "code",
   "execution_count": 3,
   "metadata": {},
   "outputs": [],
   "source": [
    "#save augmented images in folder\n",
    "def augment_data(image_path, save_dir):\n",
    "    img = cv2.imread(image_path)\n",
    "    img = cv2.cvtColor(img, cv2.COLOR_BGR2RGB)\n",
    "    img = cv2.resize(img, (512, 512))\n",
    "    \n",
    "    datagen = ImageDataGenerator(\n",
    "        rescale=1./255,\n",
    "        rotation_range=20,\n",
    "        shear_range=0.2,\n",
    "        zoom_range=0.2,\n",
    "        horizontal_flip=True,\n",
    "    )\n",
    "    \n",
    "    for i in range (0,6):\n",
    "        if i==0:\n",
    "            augmented_img = img \n",
    "        else:\n",
    "            params = datagen.get_random_transform(img.shape)\n",
    "            augmented_img = datagen.apply_transform(img, params)\n",
    "            augmented_img = np.clip(augmented_img, 0, 255).astype(np.uint8)\n",
    "        save_path = os.path.join(save_dir, f\"augmented_{i}_{os.path.basename(image_path)}\")\n",
    "        cv2.imwrite(save_path, cv2.cvtColor(augmented_img, cv2.COLOR_RGB2BGR))"
   ]
  },
  {
   "cell_type": "code",
   "execution_count": null,
   "metadata": {},
   "outputs": [],
   "source": [
    "#Augmenting a directory\n",
    "augmented_images = [augment_data(os.path.join('Aayush\\Chaar Narayan Temple\\East', img), 'Aayush\\Chaar Narayan Temple\\East') for img in os.listdir('Aayush\\Chaar Narayan Temple\\East')]"
   ]
  },
  {
   "cell_type": "code",
   "execution_count": null,
   "metadata": {},
   "outputs": [],
   "source": [
    "augmented_images = [augment_data(os.path.join('Aayush\\Chaar Narayan Temple\\West', img), 'Aayush\\Chaar Narayan Temple\\West') for img in os.listdir('Aayush\\Chaar Narayan Temple\\West')]"
   ]
  },
  {
   "cell_type": "code",
   "execution_count": null,
   "metadata": {},
   "outputs": [],
   "source": [
    "augmented_images = [augment_data(os.path.join('Aayush\\Chaar Narayan Temple\\South', img), 'Aayush\\Chaar Narayan Temple\\South') for img in os.listdir('Aayush\\Chaar Narayan Temple\\South')]\n"
   ]
  },
  {
   "cell_type": "code",
   "execution_count": null,
   "metadata": {},
   "outputs": [],
   "source": [
    "augmented_images = [augment_data(os.path.join('Aayush\\Chaar Narayan Temple\\\\North', img), 'Aayush\\Chaar Narayan Temple\\\\North') for img in os.listdir('Aayush\\Chaar Narayan Temple\\\\North')]\n"
   ]
  },
  {
   "cell_type": "code",
   "execution_count": 7,
   "metadata": {},
   "outputs": [],
   "source": [
    "names = ['Chaar Narayan Temple', 'Chyasin Dega','Krishna Mandir', 'Shree Bhimsen Temple', 'Vishwanath Temple']\n",
    "sides = ['East','West','North','South']\n",
    "directory = 'Dataset'\n",
    "save_directory = 'Augmented Dataset'\n",
    "for name in names:\n",
    "    augmented_base_dir = os.path.join(save_directory,name)\n",
    "    os.makedirs(augmented_base_dir, exist_ok=True)\n",
    "    for side in sides:\n",
    "        os.makedirs(os.path.join(augmented_base_dir,side), exist_ok=True)\n",
    "        path=os.path.join(directory,name,side)\n",
    "        save_path=os.path.join(save_directory,name,side)\n",
    "        [augment_data(os.path.join(path,img),save_path) for img in os.listdir(path)]\n"
   ]
  },
  {
   "cell_type": "code",
   "execution_count": null,
   "metadata": {},
   "outputs": [],
   "source": []
  },
  {
   "cell_type": "code",
   "execution_count": null,
   "metadata": {},
   "outputs": [],
   "source": []
  },
  {
   "cell_type": "code",
   "execution_count": null,
   "metadata": {},
   "outputs": [],
   "source": []
  },
  {
   "cell_type": "code",
   "execution_count": null,
   "metadata": {},
   "outputs": [],
   "source": []
  },
  {
   "cell_type": "code",
   "execution_count": null,
   "metadata": {},
   "outputs": [],
   "source": []
  }
 ],
 "metadata": {
  "kernelspec": {
   "display_name": "Python 3",
   "language": "python",
   "name": "python3"
  },
  "language_info": {
   "codemirror_mode": {
    "name": "ipython",
    "version": 3
   },
   "file_extension": ".py",
   "mimetype": "text/x-python",
   "name": "python",
   "nbconvert_exporter": "python",
   "pygments_lexer": "ipython3",
   "version": "3.11.4"
  }
 },
 "nbformat": 4,
 "nbformat_minor": 2
}
